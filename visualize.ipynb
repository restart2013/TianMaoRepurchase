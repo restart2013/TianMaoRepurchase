{
 "cells": [
  {
   "cell_type": "code",
   "execution_count": 1,
   "id": "f059f089",
   "metadata": {},
   "outputs": [],
   "source": [
    "import numpy as np\n",
    "import pandas as pd\n",
    "import math\n",
    "import random\n",
    "import matplotlib.pyplot as plt\n",
    "import seaborn as sns"
   ]
  },
  {
   "cell_type": "code",
   "execution_count": 2,
   "id": "5c34ed44",
   "metadata": {},
   "outputs": [],
   "source": [
    "file_path = 'data_format1/'"
   ]
  },
  {
   "cell_type": "code",
   "execution_count": 3,
   "id": "90427962",
   "metadata": {},
   "outputs": [],
   "source": [
    "tc_ui = {'user_id':'int32',\n",
    "         'age_range':'float16',\n",
    "         'gender':'float16'}\n",
    "tc_ul = {'user_id':'int32',\n",
    "         'item_id':'int32',\n",
    "         'cat_id':'int16',\n",
    "         'seller_id':'int16',\n",
    "         'brand_id':'float16',\n",
    "         'time_stamp':'int16',\n",
    "         'action_type':'int8'}\n",
    "tc_train = {'user_id':'int32',\n",
    "            'merchant_id':'int16',\n",
    "            'label':'int8'}\n",
    "tc_test = {'user_id':'int32',\n",
    "           'merchant_id':'int16',\n",
    "           'prob':'float64'}"
   ]
  },
  {
   "cell_type": "code",
   "execution_count": 4,
   "id": "8794b8a1",
   "metadata": {},
   "outputs": [],
   "source": [
    "user_info = pd.read_csv(file_path+'user_info_format1.csv', dtype=tc_ui).drop_duplicates()\n",
    "user_log = pd.read_csv(file_path+'user_log_format1.csv', dtype=tc_ul).drop_duplicates().rename(columns={'seller_id':'merchant_id'})\n",
    "train_data = pd.read_csv(file_path+'train_format1.csv', dtype=tc_train)\n",
    "test_data = pd.read_csv(file_path+'test_format1.csv', dtype=tc_test)"
   ]
  },
  {
   "cell_type": "markdown",
   "id": "e667cd03",
   "metadata": {},
   "source": [
    "# 透视分析"
   ]
  },
  {
   "cell_type": "markdown",
   "id": "14d6b149",
   "metadata": {},
   "source": [
    "结论：不能用训练集的数据来分析，训练集可以抛弃了，直接从user_log里自己做"
   ]
  },
  {
   "cell_type": "code",
   "execution_count": 5,
   "id": "d99a34e6",
   "metadata": {},
   "outputs": [],
   "source": [
    "plt.rcParams['font.sans-serif'] = ['SimHei']\n",
    "plt.rcParams['axes.unicode_minus'] = False"
   ]
  },
  {
   "cell_type": "code",
   "execution_count": 6,
   "id": "2344ec7e",
   "metadata": {},
   "outputs": [
    {
     "data": {
      "text/plain": [
       "<BarContainer object of 2 artists>"
      ]
     },
     "execution_count": 6,
     "metadata": {},
     "output_type": "execute_result"
    },
    {
     "data": {
      "image/png": "[encoded data removed]",
      "text/plain": [
       "<Figure size 432x288 with 1 Axes>"
      ]
     },
     "metadata": {
      "needs_background": "light"
     },
     "output_type": "display_data"
    }
   ],
   "source": [
    "# 训练集用户复购占比\n",
    "plt.bar(x=['复购','未复购'],height=[(train_data.label==1).sum(), (train_data.label==0).sum()])"
   ]
  },
  {
   "cell_type": "code",
   "execution_count": 7,
   "id": "6afba781",
   "metadata": {},
   "outputs": [
    {
     "data": {
      "text/plain": [
       "{2,\n",
       " 3,\n",
       " 5,\n",
       " 10,\n",
       " 11,\n",
       " 12,\n",
       " 13,\n",
       " 19,\n",
       " 20,\n",
       " 23,\n",
       " 25,\n",
       " 27,\n",
       " 29,\n",
       " 30,\n",
       " 31,\n",
       " 32,\n",
       " 34,\n",
       " 37,\n",
       " 40,\n",
       " 46,\n",
       " 49,\n",
       " 50,\n",
       " 51,\n",
       " 54,\n",
       " 55,\n",
       " 57,\n",
       " 58,\n",
       " 59,\n",
       " 65,\n",
       " 70,\n",
       " 73,\n",
       " 74,\n",
       " 76,\n",
       " 80,\n",
       " 81,\n",
       " 82,\n",
       " 90,\n",
       " 92,\n",
       " 93,\n",
       " 94,\n",
       " 98,\n",
       " 100,\n",
       " 102,\n",
       " 103,\n",
       " 105,\n",
       " 106,\n",
       " 109,\n",
       " 110,\n",
       " 113,\n",
       " 115,\n",
       " 119,\n",
       " 121,\n",
       " 123,\n",
       " 124,\n",
       " 126,\n",
       " 128,\n",
       " 129,\n",
       " 131,\n",
       " 134,\n",
       " 135,\n",
       " 136,\n",
       " 137,\n",
       " 138,\n",
       " 139,\n",
       " 140,\n",
       " 142,\n",
       " 143,\n",
       " 144,\n",
       " 145,\n",
       " 146,\n",
       " 148,\n",
       " 149,\n",
       " 150,\n",
       " 152,\n",
       " 154,\n",
       " 155,\n",
       " 157,\n",
       " 158,\n",
       " 160,\n",
       " 161,\n",
       " 164,\n",
       " 165,\n",
       " 168,\n",
       " 169,\n",
       " 173,\n",
       " 175,\n",
       " 177,\n",
       " 178,\n",
       " 179,\n",
       " 181,\n",
       " 184,\n",
       " 186,\n",
       " 190,\n",
       " 193,\n",
       " 199,\n",
       " 200,\n",
       " 202,\n",
       " 203,\n",
       " 204,\n",
       " 207,\n",
       " 208,\n",
       " 209,\n",
       " 210,\n",
       " 211,\n",
       " 213,\n",
       " 214,\n",
       " 215,\n",
       " 220,\n",
       " 221,\n",
       " 223,\n",
       " 224,\n",
       " 226,\n",
       " 227,\n",
       " 229,\n",
       " 230,\n",
       " 231,\n",
       " 234,\n",
       " 236,\n",
       " 237,\n",
       " 239,\n",
       " 242,\n",
       " 243,\n",
       " 246,\n",
       " 251,\n",
       " 254,\n",
       " 257,\n",
       " 258,\n",
       " 259,\n",
       " 266,\n",
       " 267,\n",
       " 269,\n",
       " 274,\n",
       " 275,\n",
       " 276,\n",
       " 277,\n",
       " 278,\n",
       " 279,\n",
       " 280,\n",
       " 281,\n",
       " 283,\n",
       " 285,\n",
       " 286,\n",
       " 288,\n",
       " 290,\n",
       " 294,\n",
       " 295,\n",
       " 296,\n",
       " 298,\n",
       " 301,\n",
       " 303,\n",
       " 305,\n",
       " 307,\n",
       " 309,\n",
       " 312,\n",
       " 315,\n",
       " 316,\n",
       " 318,\n",
       " 320,\n",
       " 321,\n",
       " 324,\n",
       " 328,\n",
       " 329,\n",
       " 335,\n",
       " 336,\n",
       " 337,\n",
       " 338,\n",
       " 339,\n",
       " 340,\n",
       " 341,\n",
       " 342,\n",
       " 345,\n",
       " 346,\n",
       " 347,\n",
       " 348,\n",
       " 349,\n",
       " 350,\n",
       " 351,\n",
       " 354,\n",
       " 355,\n",
       " 356,\n",
       " 357,\n",
       " 358,\n",
       " 362,\n",
       " 365,\n",
       " 369,\n",
       " 371,\n",
       " 373,\n",
       " 375,\n",
       " 378,\n",
       " 379,\n",
       " 380,\n",
       " 382,\n",
       " 385,\n",
       " 387,\n",
       " 391,\n",
       " 392,\n",
       " 395,\n",
       " 398,\n",
       " 399,\n",
       " 404,\n",
       " 411,\n",
       " 413,\n",
       " 415,\n",
       " 416,\n",
       " 418,\n",
       " 419,\n",
       " 420,\n",
       " 422,\n",
       " 423,\n",
       " 424,\n",
       " 427,\n",
       " 428,\n",
       " 431,\n",
       " 432,\n",
       " 433,\n",
       " 435,\n",
       " 436,\n",
       " 438,\n",
       " 439,\n",
       " 443,\n",
       " 444,\n",
       " 445,\n",
       " 446,\n",
       " 447,\n",
       " 449,\n",
       " 450,\n",
       " 454,\n",
       " 459,\n",
       " 460,\n",
       " 465,\n",
       " 466,\n",
       " 469,\n",
       " 470,\n",
       " 471,\n",
       " 472,\n",
       " 478,\n",
       " 479,\n",
       " 482,\n",
       " 483,\n",
       " 484,\n",
       " 490,\n",
       " 494,\n",
       " 495,\n",
       " 499,\n",
       " 501,\n",
       " 502,\n",
       " 504,\n",
       " 505,\n",
       " 506,\n",
       " 507,\n",
       " 508,\n",
       " 516,\n",
       " 518,\n",
       " 520,\n",
       " 521,\n",
       " 522,\n",
       " 523,\n",
       " 524,\n",
       " 527,\n",
       " 528,\n",
       " 530,\n",
       " 533,\n",
       " 534,\n",
       " 537,\n",
       " 538,\n",
       " 539,\n",
       " 540,\n",
       " 542,\n",
       " 543,\n",
       " 544,\n",
       " 545,\n",
       " 547,\n",
       " 551,\n",
       " 552,\n",
       " 553,\n",
       " 557,\n",
       " 560,\n",
       " 562,\n",
       " 563,\n",
       " 564,\n",
       " 565,\n",
       " 566,\n",
       " 568,\n",
       " 570,\n",
       " 571,\n",
       " 572,\n",
       " 574,\n",
       " 575,\n",
       " 577,\n",
       " 580,\n",
       " 582,\n",
       " 583,\n",
       " 585,\n",
       " 587,\n",
       " 589,\n",
       " 592,\n",
       " 593,\n",
       " 596,\n",
       " 597,\n",
       " 600,\n",
       " 602,\n",
       " 604,\n",
       " 607,\n",
       " 608,\n",
       " 609,\n",
       " 610,\n",
       " 611,\n",
       " 613,\n",
       " 616,\n",
       " 617,\n",
       " 621,\n",
       " 624,\n",
       " 625,\n",
       " 626,\n",
       " 627,\n",
       " 628,\n",
       " 631,\n",
       " 632,\n",
       " 633,\n",
       " 634,\n",
       " 635,\n",
       " 636,\n",
       " 641,\n",
       " 642,\n",
       " 643,\n",
       " 648,\n",
       " 649,\n",
       " 652,\n",
       " 653,\n",
       " 655,\n",
       " 656,\n",
       " 657,\n",
       " 658,\n",
       " 660,\n",
       " 661,\n",
       " 662,\n",
       " 663,\n",
       " 664,\n",
       " 665,\n",
       " 667,\n",
       " 671,\n",
       " 672,\n",
       " 673,\n",
       " 676,\n",
       " 681,\n",
       " 683,\n",
       " 684,\n",
       " 685,\n",
       " 686,\n",
       " 689,\n",
       " 691,\n",
       " 693,\n",
       " 694,\n",
       " 695,\n",
       " 696,\n",
       " 698,\n",
       " 701,\n",
       " 704,\n",
       " 705,\n",
       " 708,\n",
       " 709,\n",
       " 711,\n",
       " 712,\n",
       " 714,\n",
       " 718,\n",
       " 719,\n",
       " 721,\n",
       " 722,\n",
       " 723,\n",
       " 730,\n",
       " 731,\n",
       " 733,\n",
       " 735,\n",
       " 737,\n",
       " 738,\n",
       " 739,\n",
       " 740,\n",
       " 741,\n",
       " 742,\n",
       " 750,\n",
       " 752,\n",
       " 754,\n",
       " 755,\n",
       " 758,\n",
       " 760,\n",
       " 763,\n",
       " 764,\n",
       " 766,\n",
       " 767,\n",
       " 771,\n",
       " 773,\n",
       " 775,\n",
       " 776,\n",
       " 777,\n",
       " 782,\n",
       " 785,\n",
       " 786,\n",
       " 787,\n",
       " 789,\n",
       " 792,\n",
       " 793,\n",
       " 795,\n",
       " 796,\n",
       " 797,\n",
       " 799,\n",
       " 800,\n",
       " 802,\n",
       " 808,\n",
       " 809,\n",
       " 810,\n",
       " 811,\n",
       " 812,\n",
       " 813,\n",
       " 821,\n",
       " 823,\n",
       " 826,\n",
       " 827,\n",
       " 832,\n",
       " 833,\n",
       " 834,\n",
       " 838,\n",
       " 839,\n",
       " 841,\n",
       " 842,\n",
       " 843,\n",
       " 844,\n",
       " 846,\n",
       " 848,\n",
       " 849,\n",
       " 851,\n",
       " 852,\n",
       " 853,\n",
       " 854,\n",
       " 855,\n",
       " 859,\n",
       " 860,\n",
       " 861,\n",
       " 863,\n",
       " 864,\n",
       " 865,\n",
       " 866,\n",
       " 871,\n",
       " 872,\n",
       " 873,\n",
       " 875,\n",
       " 876,\n",
       " 878,\n",
       " 880,\n",
       " 881,\n",
       " 882,\n",
       " 884,\n",
       " 889,\n",
       " 892,\n",
       " 894,\n",
       " 904,\n",
       " 905,\n",
       " 906,\n",
       " 907,\n",
       " 908,\n",
       " 909,\n",
       " 910,\n",
       " 911,\n",
       " 913,\n",
       " 915,\n",
       " 917,\n",
       " 919,\n",
       " 920,\n",
       " 921,\n",
       " 922,\n",
       " 926,\n",
       " 928,\n",
       " 929,\n",
       " 930,\n",
       " 932,\n",
       " 933,\n",
       " 934,\n",
       " 935,\n",
       " 936,\n",
       " 939,\n",
       " 940,\n",
       " 942,\n",
       " 943,\n",
       " 945,\n",
       " 948,\n",
       " 949,\n",
       " 950,\n",
       " 955,\n",
       " 959,\n",
       " 960,\n",
       " 961,\n",
       " 962,\n",
       " 963,\n",
       " 966,\n",
       " 967,\n",
       " 968,\n",
       " 969,\n",
       " 970,\n",
       " 972,\n",
       " 973,\n",
       " 975,\n",
       " 976,\n",
       " 979,\n",
       " 984,\n",
       " 985,\n",
       " 986,\n",
       " 988,\n",
       " 990,\n",
       " 994,\n",
       " 999,\n",
       " 1003,\n",
       " 1004,\n",
       " 1005,\n",
       " 1007,\n",
       " 1008,\n",
       " 1009,\n",
       " 1010,\n",
       " 1011,\n",
       " 1012,\n",
       " 1013,\n",
       " 1021,\n",
       " 1024,\n",
       " 1027,\n",
       " 1029,\n",
       " 1030,\n",
       " 1033,\n",
       " 1036,\n",
       " 1037,\n",
       " 1038,\n",
       " 1039,\n",
       " 1040,\n",
       " 1042,\n",
       " 1043,\n",
       " 1045,\n",
       " 1047,\n",
       " 1048,\n",
       " 1049,\n",
       " 1050,\n",
       " 1052,\n",
       " 1053,\n",
       " 1054,\n",
       " 1055,\n",
       " 1056,\n",
       " 1058,\n",
       " 1059,\n",
       " 1060,\n",
       " 1062,\n",
       " 1063,\n",
       " 1064,\n",
       " 1065,\n",
       " 1068,\n",
       " 1070,\n",
       " 1073,\n",
       " 1074,\n",
       " 1075,\n",
       " 1076,\n",
       " 1077,\n",
       " 1081,\n",
       " 1083,\n",
       " 1085,\n",
       " 1089,\n",
       " 1090,\n",
       " 1091,\n",
       " 1096,\n",
       " 1097,\n",
       " 1099,\n",
       " 1102,\n",
       " 1103,\n",
       " 1107,\n",
       " 1109,\n",
       " 1110,\n",
       " 1111,\n",
       " 1114,\n",
       " 1122,\n",
       " 1124,\n",
       " 1128,\n",
       " 1129,\n",
       " 1132,\n",
       " 1134,\n",
       " 1139,\n",
       " 1140,\n",
       " 1141,\n",
       " 1142,\n",
       " 1143,\n",
       " 1146,\n",
       " 1147,\n",
       " 1148,\n",
       " 1149,\n",
       " 1152,\n",
       " 1156,\n",
       " 1158,\n",
       " 1159,\n",
       " 1163,\n",
       " 1164,\n",
       " 1166,\n",
       " 1168,\n",
       " 1170,\n",
       " 1171,\n",
       " 1173,\n",
       " 1175,\n",
       " 1176,\n",
       " 1184,\n",
       " 1185,\n",
       " 1187,\n",
       " 1188,\n",
       " 1190,\n",
       " 1195,\n",
       " 1196,\n",
       " 1197,\n",
       " 1198,\n",
       " 1199,\n",
       " 1200,\n",
       " 1202,\n",
       " 1203,\n",
       " 1205,\n",
       " 1206,\n",
       " 1208,\n",
       " 1209,\n",
       " 1210,\n",
       " 1211,\n",
       " 1213,\n",
       " 1217,\n",
       " 1218,\n",
       " 1219,\n",
       " 1222,\n",
       " 1224,\n",
       " 1225,\n",
       " 1227,\n",
       " 1228,\n",
       " 1230,\n",
       " 1233,\n",
       " 1234,\n",
       " 1237,\n",
       " 1239,\n",
       " 1243,\n",
       " 1244,\n",
       " 1245,\n",
       " 1246,\n",
       " 1247,\n",
       " 1250,\n",
       " 1252,\n",
       " 1253,\n",
       " 1254,\n",
       " 1255,\n",
       " 1258,\n",
       " 1260,\n",
       " 1265,\n",
       " 1266,\n",
       " 1267,\n",
       " 1270,\n",
       " 1271,\n",
       " 1272,\n",
       " 1275,\n",
       " 1276,\n",
       " 1277,\n",
       " 1278,\n",
       " 1280,\n",
       " 1285,\n",
       " 1286,\n",
       " 1288,\n",
       " 1289,\n",
       " 1292,\n",
       " 1298,\n",
       " 1299,\n",
       " 1300,\n",
       " 1301,\n",
       " 1305,\n",
       " 1308,\n",
       " 1313,\n",
       " 1316,\n",
       " 1319,\n",
       " 1320,\n",
       " 1322,\n",
       " 1324,\n",
       " 1325,\n",
       " 1327,\n",
       " 1328,\n",
       " 1329,\n",
       " 1331,\n",
       " 1337,\n",
       " 1338,\n",
       " 1339,\n",
       " 1341,\n",
       " 1342,\n",
       " 1344,\n",
       " 1347,\n",
       " 1348,\n",
       " 1349,\n",
       " 1356,\n",
       " 1357,\n",
       " 1362,\n",
       " 1364,\n",
       " 1367,\n",
       " 1371,\n",
       " 1373,\n",
       " 1374,\n",
       " 1375,\n",
       " 1376,\n",
       " 1378,\n",
       " 1379,\n",
       " 1380,\n",
       " 1381,\n",
       " 1384,\n",
       " 1385,\n",
       " 1387,\n",
       " 1388,\n",
       " 1389,\n",
       " 1391,\n",
       " 1392,\n",
       " 1396,\n",
       " 1397,\n",
       " 1401,\n",
       " 1412,\n",
       " 1416,\n",
       " 1422,\n",
       " 1423,\n",
       " 1425,\n",
       " 1427,\n",
       " 1431,\n",
       " 1434,\n",
       " 1436,\n",
       " 1437,\n",
       " 1438,\n",
       " 1440,\n",
       " 1443,\n",
       " 1446,\n",
       " 1451,\n",
       " 1452,\n",
       " 1453,\n",
       " 1454,\n",
       " 1455,\n",
       " 1457,\n",
       " 1458,\n",
       " 1459,\n",
       " 1460,\n",
       " 1461,\n",
       " 1463,\n",
       " 1466,\n",
       " 1467,\n",
       " 1470,\n",
       " 1475,\n",
       " 1476,\n",
       " 1478,\n",
       " 1479,\n",
       " 1480,\n",
       " 1481,\n",
       " 1483,\n",
       " 1484,\n",
       " 1485,\n",
       " 1486,\n",
       " 1488,\n",
       " 1489,\n",
       " 1492,\n",
       " 1493,\n",
       " 1499,\n",
       " 1500,\n",
       " 1502,\n",
       " 1503,\n",
       " 1505,\n",
       " 1506,\n",
       " 1507,\n",
       " 1509,\n",
       " 1512,\n",
       " 1514,\n",
       " 1517,\n",
       " 1518,\n",
       " 1519,\n",
       " 1521,\n",
       " 1522,\n",
       " 1524,\n",
       " 1525,\n",
       " 1527,\n",
       " 1528,\n",
       " 1530,\n",
       " 1533,\n",
       " 1534,\n",
       " 1535,\n",
       " 1537,\n",
       " 1539,\n",
       " 1545,\n",
       " 1547,\n",
       " 1549,\n",
       " 1550,\n",
       " 1551,\n",
       " 1554,\n",
       " 1557,\n",
       " 1558,\n",
       " 1559,\n",
       " 1562,\n",
       " 1564,\n",
       " 1566,\n",
       " 1569,\n",
       " 1570,\n",
       " 1571,\n",
       " 1572,\n",
       " 1573,\n",
       " 1575,\n",
       " 1576,\n",
       " 1580,\n",
       " 1581,\n",
       " 1582,\n",
       " 1583,\n",
       " 1584,\n",
       " 1585,\n",
       " 1586,\n",
       " 1589,\n",
       " 1591,\n",
       " 1594,\n",
       " 1600,\n",
       " 1605,\n",
       " 1611,\n",
       " 1612,\n",
       " 1617,\n",
       " 1618,\n",
       " 1619,\n",
       " 1620,\n",
       " 1627,\n",
       " 1630,\n",
       " 1631,\n",
       " 1632,\n",
       " 1633,\n",
       " 1634,\n",
       " 1638,\n",
       " 1639,\n",
       " 1640,\n",
       " 1642,\n",
       " 1644,\n",
       " 1645,\n",
       " 1647,\n",
       " 1649,\n",
       " 1653,\n",
       " 1659,\n",
       " 1660,\n",
       " 1661,\n",
       " 1662,\n",
       " 1664,\n",
       " 1666,\n",
       " 1668,\n",
       " 1672,\n",
       " 1676,\n",
       " 1679,\n",
       " 1682,\n",
       " 1683,\n",
       " 1685,\n",
       " 1687,\n",
       " 1688,\n",
       " 1693,\n",
       " 1694,\n",
       " 1696,\n",
       " 1697,\n",
       " 1699,\n",
       " 1702,\n",
       " 1703,\n",
       " 1704,\n",
       " 1706,\n",
       " 1710,\n",
       " 1711,\n",
       " 1713,\n",
       " 1716,\n",
       " 1719,\n",
       " 1722,\n",
       " 1723,\n",
       " 1726,\n",
       " 1727,\n",
       " 1728,\n",
       " 1729,\n",
       " 1732,\n",
       " 1733,\n",
       " 1735,\n",
       " 1739,\n",
       " 1740,\n",
       " 1741,\n",
       " 1742,\n",
       " 1743,\n",
       " 1745,\n",
       " 1746,\n",
       " 1747,\n",
       " 1751,\n",
       " 1754,\n",
       " 1755,\n",
       " 1761,\n",
       " 1764,\n",
       " 1766,\n",
       " 1767,\n",
       " 1768,\n",
       " 1769,\n",
       " 1771,\n",
       " 1772,\n",
       " 1774,\n",
       " 1775,\n",
       " 1779,\n",
       " 1783,\n",
       " 1785,\n",
       " 1786,\n",
       " 1787,\n",
       " 1789,\n",
       " 1790,\n",
       " 1791,\n",
       " 1792,\n",
       " 1794,\n",
       " 1795,\n",
       " 1798,\n",
       " 1799,\n",
       " 1804,\n",
       " 1807,\n",
       " 1808,\n",
       " 1809,\n",
       " 1811,\n",
       " 1813,\n",
       " 1814,\n",
       " 1817,\n",
       " 1818,\n",
       " 1822,\n",
       " 1824,\n",
       " 1826,\n",
       " 1831,\n",
       " 1832,\n",
       " 1833,\n",
       " 1836,\n",
       " 1838,\n",
       " 1846,\n",
       " 1851,\n",
       " 1854,\n",
       " 1858,\n",
       " 1862,\n",
       " 1865,\n",
       " 1867,\n",
       " 1870,\n",
       " 1873,\n",
       " 1875,\n",
       " 1879,\n",
       " 1883,\n",
       " 1884,\n",
       " 1885,\n",
       " 1886,\n",
       " 1888,\n",
       " 1890,\n",
       " 1896,\n",
       " 1898,\n",
       " 1899,\n",
       " 1901,\n",
       " 1902,\n",
       " 1903,\n",
       " 1905,\n",
       " 1910,\n",
       " 1914,\n",
       " 1915,\n",
       " 1918,\n",
       " 1919,\n",
       " 1921,\n",
       " 1922,\n",
       " 1923,\n",
       " 1927,\n",
       " 1931,\n",
       " 1932,\n",
       " 1933,\n",
       " 1934,\n",
       " 1939,\n",
       " 1940,\n",
       " 1946,\n",
       " 1950,\n",
       " 1951,\n",
       " 1952,\n",
       " 1953,\n",
       " 1954,\n",
       " 1956,\n",
       " 1958,\n",
       " 1959,\n",
       " 1961,\n",
       " 1962,\n",
       " 1966,\n",
       " 1969,\n",
       " 1972,\n",
       " 1976,\n",
       " 1978,\n",
       " 1980,\n",
       " 1981,\n",
       " 1982,\n",
       " 1983,\n",
       " 1985,\n",
       " 1986,\n",
       " 1988,\n",
       " 1990,\n",
       " 1993,\n",
       " 1995,\n",
       " 1996,\n",
       " 1997,\n",
       " 1999,\n",
       " 2000,\n",
       " 2001,\n",
       " 2002,\n",
       " 2003,\n",
       " 2004,\n",
       " 2008,\n",
       " 2009,\n",
       " 2018,\n",
       " 2019,\n",
       " 2020,\n",
       " 2023,\n",
       " 2026,\n",
       " 2027,\n",
       " ...}"
      ]
     },
     "execution_count": 7,
     "metadata": {},
     "output_type": "execute_result"
    }
   ],
   "source": [
    "# 由于训练集基本只包含所有客户的一半，是不具代表性的，故我们拿user_log重新做一个复购用户表\n",
    "set(user_log.user_id.drop_duplicates().tolist())-set(train_data.user_id.tolist())"
   ]
  },
  {
   "cell_type": "markdown",
   "id": "63a1334b",
   "metadata": {},
   "source": [
    "从user_log做用户复购表"
   ]
  },
  {
   "cell_type": "code",
   "execution_count": 8,
   "id": "65ce61c0",
   "metadata": {},
   "outputs": [],
   "source": [
    "user_log.reset_index(drop=True, inplace=True)"
   ]
  },
  {
   "cell_type": "code",
   "execution_count": 9,
   "id": "44bdf1c0",
   "metadata": {
    "scrolled": false
   },
   "outputs": [
    {
     "name": "stdout",
     "output_type": "stream",
     "text": [
      "set()\n"
     ]
    },
    {
     "data": {
      "text/html": [
       "<div>\n",
       "<style scoped>\n",
       "    .dataframe tbody tr th:only-of-type {\n",
       "        vertical-align: middle;\n",
       "    }\n",
       "\n",
       "    .dataframe tbody tr th {\n",
       "        vertical-align: top;\n",
       "    }\n",
       "\n",
       "    .dataframe thead th {\n",
       "        text-align: right;\n",
       "    }\n",
       "</style>\n",
       "<table border=\"1\" class=\"dataframe\">\n",
       "  <thead>\n",
       "    <tr style=\"text-align: right;\">\n",
       "      <th></th>\n",
       "      <th>user_id</th>\n",
       "      <th>item_id</th>\n",
       "      <th>cat_id</th>\n",
       "      <th>merchant_id</th>\n",
       "      <th>brand_id</th>\n",
       "      <th>time_stamp</th>\n",
       "      <th>action_type</th>\n",
       "      <th>buycnt</th>\n",
       "      <th>if_rebuy</th>\n",
       "    </tr>\n",
       "  </thead>\n",
       "  <tbody>\n",
       "    <tr>\n",
       "      <th>0</th>\n",
       "      <td>328862</td>\n",
       "      <td>81766</td>\n",
       "      <td>614</td>\n",
       "      <td>4605</td>\n",
       "      <td>7624.0</td>\n",
       "      <td>709</td>\n",
       "      <td>2</td>\n",
       "      <td>2</td>\n",
       "      <td>1</td>\n",
       "    </tr>\n",
       "    <tr>\n",
       "      <th>1</th>\n",
       "      <td>328862</td>\n",
       "      <td>853901</td>\n",
       "      <td>267</td>\n",
       "      <td>3073</td>\n",
       "      <td>8128.0</td>\n",
       "      <td>805</td>\n",
       "      <td>2</td>\n",
       "      <td>6</td>\n",
       "      <td>1</td>\n",
       "    </tr>\n",
       "    <tr>\n",
       "      <th>2</th>\n",
       "      <td>328862</td>\n",
       "      <td>1102596</td>\n",
       "      <td>267</td>\n",
       "      <td>3073</td>\n",
       "      <td>8128.0</td>\n",
       "      <td>805</td>\n",
       "      <td>2</td>\n",
       "      <td>6</td>\n",
       "      <td>1</td>\n",
       "    </tr>\n",
       "    <tr>\n",
       "      <th>3</th>\n",
       "      <td>328862</td>\n",
       "      <td>963870</td>\n",
       "      <td>267</td>\n",
       "      <td>3073</td>\n",
       "      <td>8128.0</td>\n",
       "      <td>805</td>\n",
       "      <td>2</td>\n",
       "      <td>6</td>\n",
       "      <td>1</td>\n",
       "    </tr>\n",
       "    <tr>\n",
       "      <th>4</th>\n",
       "      <td>328862</td>\n",
       "      <td>813647</td>\n",
       "      <td>267</td>\n",
       "      <td>3073</td>\n",
       "      <td>8128.0</td>\n",
       "      <td>805</td>\n",
       "      <td>2</td>\n",
       "      <td>6</td>\n",
       "      <td>1</td>\n",
       "    </tr>\n",
       "    <tr>\n",
       "      <th>...</th>\n",
       "      <td>...</td>\n",
       "      <td>...</td>\n",
       "      <td>...</td>\n",
       "      <td>...</td>\n",
       "      <td>...</td>\n",
       "      <td>...</td>\n",
       "      <td>...</td>\n",
       "      <td>...</td>\n",
       "      <td>...</td>\n",
       "    </tr>\n",
       "    <tr>\n",
       "      <th>3013840</th>\n",
       "      <td>128038</td>\n",
       "      <td>1022583</td>\n",
       "      <td>883</td>\n",
       "      <td>2031</td>\n",
       "      <td>2446.0</td>\n",
       "      <td>1111</td>\n",
       "      <td>2</td>\n",
       "      <td>1</td>\n",
       "      <td>0</td>\n",
       "    </tr>\n",
       "    <tr>\n",
       "      <th>3013841</th>\n",
       "      <td>128038</td>\n",
       "      <td>1083994</td>\n",
       "      <td>748</td>\n",
       "      <td>2002</td>\n",
       "      <td>3940.0</td>\n",
       "      <td>1111</td>\n",
       "      <td>2</td>\n",
       "      <td>1</td>\n",
       "      <td>0</td>\n",
       "    </tr>\n",
       "    <tr>\n",
       "      <th>3013842</th>\n",
       "      <td>34885</td>\n",
       "      <td>490526</td>\n",
       "      <td>1620</td>\n",
       "      <td>3444</td>\n",
       "      <td>5308.0</td>\n",
       "      <td>1111</td>\n",
       "      <td>2</td>\n",
       "      <td>1</td>\n",
       "      <td>0</td>\n",
       "    </tr>\n",
       "    <tr>\n",
       "      <th>3013843</th>\n",
       "      <td>208016</td>\n",
       "      <td>51712</td>\n",
       "      <td>898</td>\n",
       "      <td>3763</td>\n",
       "      <td>8432.0</td>\n",
       "      <td>1111</td>\n",
       "      <td>2</td>\n",
       "      <td>2</td>\n",
       "      <td>1</td>\n",
       "    </tr>\n",
       "    <tr>\n",
       "      <th>3013844</th>\n",
       "      <td>208016</td>\n",
       "      <td>1024462</td>\n",
       "      <td>898</td>\n",
       "      <td>3763</td>\n",
       "      <td>8432.0</td>\n",
       "      <td>1111</td>\n",
       "      <td>2</td>\n",
       "      <td>2</td>\n",
       "      <td>1</td>\n",
       "    </tr>\n",
       "  </tbody>\n",
       "</table>\n",
       "<p>3013845 rows × 9 columns</p>\n",
       "</div>"
      ],
      "text/plain": [
       "         user_id  item_id  cat_id  merchant_id  brand_id  time_stamp  \\\n",
       "0         328862    81766     614         4605    7624.0         709   \n",
       "1         328862   853901     267         3073    8128.0         805   \n",
       "2         328862  1102596     267         3073    8128.0         805   \n",
       "3         328862   963870     267         3073    8128.0         805   \n",
       "4         328862   813647     267         3073    8128.0         805   \n",
       "...          ...      ...     ...          ...       ...         ...   \n",
       "3013840   128038  1022583     883         2031    2446.0        1111   \n",
       "3013841   128038  1083994     748         2002    3940.0        1111   \n",
       "3013842    34885   490526    1620         3444    5308.0        1111   \n",
       "3013843   208016    51712     898         3763    8432.0        1111   \n",
       "3013844   208016  1024462     898         3763    8432.0        1111   \n",
       "\n",
       "         action_type  buycnt  if_rebuy  \n",
       "0                  2       2         1  \n",
       "1                  2       6         1  \n",
       "2                  2       6         1  \n",
       "3                  2       6         1  \n",
       "4                  2       6         1  \n",
       "...              ...     ...       ...  \n",
       "3013840            2       1         0  \n",
       "3013841            2       1         0  \n",
       "3013842            2       1         0  \n",
       "3013843            2       2         1  \n",
       "3013844            2       2         1  \n",
       "\n",
       "[3013845 rows x 9 columns]"
      ]
     },
     "execution_count": 9,
     "metadata": {},
     "output_type": "execute_result"
    }
   ],
   "source": [
    "# 赋值所有有过rebuy的用户\n",
    "buy = user_log[user_log['action_type']==2].reset_index(drop=True)\n",
    "# 说明所有用户都有购买记录\n",
    "print(set(user_log.user_id.drop_duplicates().tolist())-set(buy.user_id.tolist()))\n",
    "buy['buycnt'] = buy.groupby(['user_id', 'merchant_id'])['merchant_id'].transform('count')\n",
    "buy['if_rebuy'] = buy['buycnt'].map(lambda x:0 if x<=1 else 1)\n",
    "buy"
   ]
  },
  {
   "cell_type": "code",
   "execution_count": 10,
   "id": "ff8f4825",
   "metadata": {
    "scrolled": false
   },
   "outputs": [
    {
     "data": {
      "text/html": [
       "<div>\n",
       "<style scoped>\n",
       "    .dataframe tbody tr th:only-of-type {\n",
       "        vertical-align: middle;\n",
       "    }\n",
       "\n",
       "    .dataframe tbody tr th {\n",
       "        vertical-align: top;\n",
       "    }\n",
       "\n",
       "    .dataframe thead th {\n",
       "        text-align: right;\n",
       "    }\n",
       "</style>\n",
       "<table border=\"1\" class=\"dataframe\">\n",
       "  <thead>\n",
       "    <tr style=\"text-align: right;\">\n",
       "      <th></th>\n",
       "      <th>user_id</th>\n",
       "      <th>if_rebuy</th>\n",
       "      <th>age_range</th>\n",
       "      <th>gender</th>\n",
       "    </tr>\n",
       "  </thead>\n",
       "  <tbody>\n",
       "    <tr>\n",
       "      <th>0</th>\n",
       "      <td>1</td>\n",
       "      <td>0</td>\n",
       "      <td>3.0</td>\n",
       "      <td>1.0</td>\n",
       "    </tr>\n",
       "    <tr>\n",
       "      <th>1</th>\n",
       "      <td>2</td>\n",
       "      <td>1</td>\n",
       "      <td>3.0</td>\n",
       "      <td>0.0</td>\n",
       "    </tr>\n",
       "    <tr>\n",
       "      <th>2</th>\n",
       "      <td>3</td>\n",
       "      <td>0</td>\n",
       "      <td>3.0</td>\n",
       "      <td>0.0</td>\n",
       "    </tr>\n",
       "    <tr>\n",
       "      <th>3</th>\n",
       "      <td>4</td>\n",
       "      <td>0</td>\n",
       "      <td>0.0</td>\n",
       "      <td>0.0</td>\n",
       "    </tr>\n",
       "    <tr>\n",
       "      <th>4</th>\n",
       "      <td>5</td>\n",
       "      <td>1</td>\n",
       "      <td>5.0</td>\n",
       "      <td>0.0</td>\n",
       "    </tr>\n",
       "    <tr>\n",
       "      <th>...</th>\n",
       "      <td>...</td>\n",
       "      <td>...</td>\n",
       "      <td>...</td>\n",
       "      <td>...</td>\n",
       "    </tr>\n",
       "    <tr>\n",
       "      <th>424165</th>\n",
       "      <td>424166</td>\n",
       "      <td>1</td>\n",
       "      <td>2.0</td>\n",
       "      <td>1.0</td>\n",
       "    </tr>\n",
       "    <tr>\n",
       "      <th>424166</th>\n",
       "      <td>424167</td>\n",
       "      <td>0</td>\n",
       "      <td>3.0</td>\n",
       "      <td>1.0</td>\n",
       "    </tr>\n",
       "    <tr>\n",
       "      <th>424167</th>\n",
       "      <td>424168</td>\n",
       "      <td>0</td>\n",
       "      <td>5.0</td>\n",
       "      <td>0.0</td>\n",
       "    </tr>\n",
       "    <tr>\n",
       "      <th>424168</th>\n",
       "      <td>424169</td>\n",
       "      <td>1</td>\n",
       "      <td>0.0</td>\n",
       "      <td>0.0</td>\n",
       "    </tr>\n",
       "    <tr>\n",
       "      <th>424169</th>\n",
       "      <td>424170</td>\n",
       "      <td>0</td>\n",
       "      <td>0.0</td>\n",
       "      <td>1.0</td>\n",
       "    </tr>\n",
       "  </tbody>\n",
       "</table>\n",
       "<p>424170 rows × 4 columns</p>\n",
       "</div>"
      ],
      "text/plain": [
       "        user_id  if_rebuy  age_range  gender\n",
       "0             1         0        3.0     1.0\n",
       "1             2         1        3.0     0.0\n",
       "2             3         0        3.0     0.0\n",
       "3             4         0        0.0     0.0\n",
       "4             5         1        5.0     0.0\n",
       "...         ...       ...        ...     ...\n",
       "424165   424166         1        2.0     1.0\n",
       "424166   424167         0        3.0     1.0\n",
       "424167   424168         0        5.0     0.0\n",
       "424168   424169         1        0.0     0.0\n",
       "424169   424170         0        0.0     1.0\n",
       "\n",
       "[424170 rows x 4 columns]"
      ]
     },
     "execution_count": 10,
     "metadata": {},
     "output_type": "execute_result"
    }
   ],
   "source": [
    "user_rebuy = pd.DataFrame(buy.user_id.drop_duplicates()).sort_values(by='user_id').reset_index(drop=True)\n",
    "user_rebuy = user_rebuy.merge(buy.groupby('user_id')['if_rebuy'].aggregate('sum'),how='left', on='user_id')\n",
    "user_rebuy['if_rebuy'] = user_rebuy['if_rebuy'].map(lambda x:0 if x==0 else 1)\n",
    "user_rebuy = user_rebuy.merge(user_info, how='left', on='user_id')\n",
    "user_rebuy"
   ]
  },
  {
   "cell_type": "markdown",
   "id": "a6feaf5b",
   "metadata": {},
   "source": [
    "结论：女性复购率高于男性，未知性别最高"
   ]
  },
  {
   "cell_type": "code",
   "execution_count": 11,
   "id": "34b3d6f7",
   "metadata": {},
   "outputs": [
    {
     "name": "stdout",
     "output_type": "stream",
     "text": [
      "6436\n"
     ]
    },
    {
     "data": {
      "text/plain": [
       "Text(0.5, 1.0, '性别复购率')"
      ]
     },
     "execution_count": 11,
     "metadata": {},
     "output_type": "execute_result"
    },
    {
     "data": {
      "image/png": "[encoded data removed]",
      "text/plain": [
       "<Figure size 432x288 with 1 Axes>"
      ]
     },
     "metadata": {
      "needs_background": "light"
     },
     "output_type": "display_data"
    }
   ],
   "source": [
    "# 0女性，1男性，2表未知\n",
    "# 性别标签丢失不碍事\n",
    "print(user_rebuy.gender.isna().sum())\n",
    "plt.bar(x = user_rebuy.gender.unique(), height=[user_rebuy.loc[user_rebuy['gender']==i,'if_rebuy'].mean() for i in user_rebuy.gender.unique()])\n",
    "plt.title('性别复购率')"
   ]
  },
  {
   "cell_type": "markdown",
   "id": "b73ef29b",
   "metadata": {},
   "source": [
    "结论：中年用户即3、4、5、6，即30-50岁复购率相对高"
   ]
  },
  {
   "cell_type": "code",
   "execution_count": 12,
   "id": "f7b63f08",
   "metadata": {},
   "outputs": [
    {
     "name": "stdout",
     "output_type": "stream",
     "text": [
      "2217\n"
     ]
    },
    {
     "data": {
      "text/plain": [
       "Text(0.5, 1.0, '年龄复购率')"
      ]
     },
     "execution_count": 12,
     "metadata": {},
     "output_type": "execute_result"
    },
    {
     "data": {
      "image/png": "[encoded data removed]",
      "text/plain": [
       "<Figure size 432x288 with 1 Axes>"
      ]
     },
     "metadata": {
      "needs_background": "light"
     },
     "output_type": "display_data"
    }
   ],
   "source": [
    "# 年龄标签丢失不碍事\n",
    "print(user_rebuy.age_range.isna().sum())\n",
    "plt.bar(x = user_rebuy.age_range.unique(), height=[user_rebuy.loc[user_rebuy['age_range']==i,'if_rebuy'].mean() for i in user_rebuy.age_range.unique()])\n",
    "plt.title('年龄复购率')"
   ]
  },
  {
   "cell_type": "markdown",
   "id": "1ed1a244",
   "metadata": {},
   "source": [
    "最多复购的商品种类"
   ]
  },
  {
   "cell_type": "code",
   "execution_count": 13,
   "id": "3f41159a",
   "metadata": {},
   "outputs": [
    {
     "data": {
      "text/html": [
       "<div>\n",
       "<style scoped>\n",
       "    .dataframe tbody tr th:only-of-type {\n",
       "        vertical-align: middle;\n",
       "    }\n",
       "\n",
       "    .dataframe tbody tr th {\n",
       "        vertical-align: top;\n",
       "    }\n",
       "\n",
       "    .dataframe thead th {\n",
       "        text-align: right;\n",
       "    }\n",
       "</style>\n",
       "<table border=\"1\" class=\"dataframe\">\n",
       "  <thead>\n",
       "    <tr style=\"text-align: right;\">\n",
       "      <th></th>\n",
       "      <th>cat_id</th>\n",
       "      <th>rebuy_users</th>\n",
       "    </tr>\n",
       "  </thead>\n",
       "  <tbody>\n",
       "    <tr>\n",
       "      <th>0</th>\n",
       "      <td>1</td>\n",
       "      <td>5</td>\n",
       "    </tr>\n",
       "    <tr>\n",
       "      <th>1</th>\n",
       "      <td>2</td>\n",
       "      <td>144</td>\n",
       "    </tr>\n",
       "    <tr>\n",
       "      <th>2</th>\n",
       "      <td>3</td>\n",
       "      <td>0</td>\n",
       "    </tr>\n",
       "    <tr>\n",
       "      <th>3</th>\n",
       "      <td>4</td>\n",
       "      <td>17</td>\n",
       "    </tr>\n",
       "    <tr>\n",
       "      <th>4</th>\n",
       "      <td>5</td>\n",
       "      <td>109</td>\n",
       "    </tr>\n",
       "    <tr>\n",
       "      <th>...</th>\n",
       "      <td>...</td>\n",
       "      <td>...</td>\n",
       "    </tr>\n",
       "    <tr>\n",
       "      <th>1319</th>\n",
       "      <td>1665</td>\n",
       "      <td>3</td>\n",
       "    </tr>\n",
       "    <tr>\n",
       "      <th>1320</th>\n",
       "      <td>1666</td>\n",
       "      <td>15</td>\n",
       "    </tr>\n",
       "    <tr>\n",
       "      <th>1321</th>\n",
       "      <td>1668</td>\n",
       "      <td>32</td>\n",
       "    </tr>\n",
       "    <tr>\n",
       "      <th>1322</th>\n",
       "      <td>1670</td>\n",
       "      <td>1</td>\n",
       "    </tr>\n",
       "    <tr>\n",
       "      <th>1323</th>\n",
       "      <td>1671</td>\n",
       "      <td>0</td>\n",
       "    </tr>\n",
       "  </tbody>\n",
       "</table>\n",
       "<p>1324 rows × 2 columns</p>\n",
       "</div>"
      ],
      "text/plain": [
       "      cat_id  rebuy_users\n",
       "0          1            5\n",
       "1          2          144\n",
       "2          3            0\n",
       "3          4           17\n",
       "4          5          109\n",
       "...      ...          ...\n",
       "1319    1665            3\n",
       "1320    1666           15\n",
       "1321    1668           32\n",
       "1322    1670            1\n",
       "1323    1671            0\n",
       "\n",
       "[1324 rows x 2 columns]"
      ]
     },
     "execution_count": 13,
     "metadata": {},
     "output_type": "execute_result"
    }
   ],
   "source": [
    "cat_buy = pd.concat([buy.user_id,buy.cat_id,buy.groupby(['user_id', 'cat_id'])['cat_id'].transform('count').map(lambda x:0 if x<=1 else 1).rename('if_rebuy')],axis=1)\n",
    "cat_rebuy = pd.DataFrame(buy.cat_id.drop_duplicates()).sort_values(by='cat_id').reset_index(drop=True)\n",
    "cat_rebuy = cat_rebuy.merge(cat_buy[cat_buy['if_rebuy']==1].drop_duplicates().groupby('cat_id')['user_id'].aggregate('count'),how='left',on='cat_id').fillna(0)\n",
    "cat_rebuy['rebuy_users'] = cat_rebuy['user_id'].astype(int)\n",
    "cat_rebuy.drop('user_id',axis=1,inplace=True)\n",
    "cat_rebuy"
   ]
  },
  {
   "cell_type": "code",
   "execution_count": 14,
   "id": "f21c5df1",
   "metadata": {},
   "outputs": [
    {
     "data": {
      "text/plain": [
       "Text(0.5, 1.0, '复购用户数前10的商品种类')"
      ]
     },
     "execution_count": 14,
     "metadata": {},
     "output_type": "execute_result"
    },
    {
     "data": {
      "image/png": "[encoded data removed]",
      "text/plain": [
       "<Figure size 432x288 with 1 Axes>"
      ]
     },
     "metadata": {
      "needs_background": "light"
     },
     "output_type": "display_data"
    }
   ],
   "source": [
    "plt.bar(x=cat_rebuy.sort_values(by='rebuy_users',ascending=False).cat_id[:10].map(str),height=cat_rebuy.sort_values(by='rebuy_users',ascending=False).rebuy_users[:10])\n",
    "plt.title('复购用户数前10的商品种类')"
   ]
  },
  {
   "cell_type": "markdown",
   "id": "8b18ed40",
   "metadata": {},
   "source": [
    "最多复购的店铺"
   ]
  },
  {
   "cell_type": "code",
   "execution_count": 15,
   "id": "1eb9d8b4",
   "metadata": {},
   "outputs": [
    {
     "data": {
      "text/html": [
       "<div>\n",
       "<style scoped>\n",
       "    .dataframe tbody tr th:only-of-type {\n",
       "        vertical-align: middle;\n",
       "    }\n",
       "\n",
       "    .dataframe tbody tr th {\n",
       "        vertical-align: top;\n",
       "    }\n",
       "\n",
       "    .dataframe thead th {\n",
       "        text-align: right;\n",
       "    }\n",
       "</style>\n",
       "<table border=\"1\" class=\"dataframe\">\n",
       "  <thead>\n",
       "    <tr style=\"text-align: right;\">\n",
       "      <th></th>\n",
       "      <th>merchant_id</th>\n",
       "      <th>rebuy_users</th>\n",
       "    </tr>\n",
       "  </thead>\n",
       "  <tbody>\n",
       "    <tr>\n",
       "      <th>0</th>\n",
       "      <td>1</td>\n",
       "      <td>3584</td>\n",
       "    </tr>\n",
       "    <tr>\n",
       "      <th>1</th>\n",
       "      <td>2</td>\n",
       "      <td>14</td>\n",
       "    </tr>\n",
       "    <tr>\n",
       "      <th>2</th>\n",
       "      <td>3</td>\n",
       "      <td>2</td>\n",
       "    </tr>\n",
       "    <tr>\n",
       "      <th>3</th>\n",
       "      <td>4</td>\n",
       "      <td>35</td>\n",
       "    </tr>\n",
       "    <tr>\n",
       "      <th>4</th>\n",
       "      <td>5</td>\n",
       "      <td>15</td>\n",
       "    </tr>\n",
       "    <tr>\n",
       "      <th>...</th>\n",
       "      <td>...</td>\n",
       "      <td>...</td>\n",
       "    </tr>\n",
       "    <tr>\n",
       "      <th>4990</th>\n",
       "      <td>4991</td>\n",
       "      <td>5</td>\n",
       "    </tr>\n",
       "    <tr>\n",
       "      <th>4991</th>\n",
       "      <td>4992</td>\n",
       "      <td>314</td>\n",
       "    </tr>\n",
       "    <tr>\n",
       "      <th>4992</th>\n",
       "      <td>4993</td>\n",
       "      <td>79</td>\n",
       "    </tr>\n",
       "    <tr>\n",
       "      <th>4993</th>\n",
       "      <td>4994</td>\n",
       "      <td>16</td>\n",
       "    </tr>\n",
       "    <tr>\n",
       "      <th>4994</th>\n",
       "      <td>4995</td>\n",
       "      <td>83</td>\n",
       "    </tr>\n",
       "  </tbody>\n",
       "</table>\n",
       "<p>4995 rows × 2 columns</p>\n",
       "</div>"
      ],
      "text/plain": [
       "      merchant_id  rebuy_users\n",
       "0               1         3584\n",
       "1               2           14\n",
       "2               3            2\n",
       "3               4           35\n",
       "4               5           15\n",
       "...           ...          ...\n",
       "4990         4991            5\n",
       "4991         4992          314\n",
       "4992         4993           79\n",
       "4993         4994           16\n",
       "4994         4995           83\n",
       "\n",
       "[4995 rows x 2 columns]"
      ]
     },
     "execution_count": 15,
     "metadata": {},
     "output_type": "execute_result"
    }
   ],
   "source": [
    "merchant_rebuy = pd.DataFrame(buy.merchant_id.drop_duplicates()).sort_values(by='merchant_id').reset_index(drop=True)\n",
    "merchant_rebuy = merchant_rebuy.merge(buy.loc[buy['if_rebuy']==1,['user_id','merchant_id','if_rebuy']].drop_duplicates().groupby('merchant_id')['user_id'].aggregate('count'),how='left',on='merchant_id').fillna(0)\n",
    "merchant_rebuy['rebuy_users'] = merchant_rebuy['user_id'].astype(int)\n",
    "merchant_rebuy.drop('user_id',axis=1,inplace=True)\n",
    "merchant_rebuy"
   ]
  },
  {
   "cell_type": "code",
   "execution_count": 16,
   "id": "2629a3ad",
   "metadata": {
    "scrolled": true
   },
   "outputs": [
    {
     "data": {
      "text/plain": [
       "Text(0.5, 1.0, '复购用户数前10的商店')"
      ]
     },
     "execution_count": 16,
     "metadata": {},
     "output_type": "execute_result"
    },
    {
     "data": {
      "image/png": "[encoded data removed]",
      "text/plain": [
       "<Figure size 432x288 with 1 Axes>"
      ]
     },
     "metadata": {
      "needs_background": "light"
     },
     "output_type": "display_data"
    }
   ],
   "source": [
    "plt.bar(x=merchant_rebuy.sort_values(by='rebuy_users',ascending=False).merchant_id[:10].map(str),height=merchant_rebuy.sort_values(by='rebuy_users',ascending=False).rebuy_users[:10])\n",
    "plt.title('复购用户数前10的商店')"
   ]
  },
  {
   "cell_type": "markdown",
   "id": "18c34748",
   "metadata": {},
   "source": [
    "年龄分布"
   ]
  },
  {
   "cell_type": "code",
   "execution_count": 46,
   "id": "e6a6df1b",
   "metadata": {
    "scrolled": true
   },
   "outputs": [
    {
     "data": {
      "text/plain": [
       "(array([9.51310e+04, 2.40000e+01, 5.28710e+04, 1.11654e+05, 7.99910e+04,\n",
       "        4.07770e+04, 3.54640e+04, 8.25800e+03]),\n",
       " array([0., 1., 2., 3., 4., 5., 6., 7., 8.]),\n",
       " <BarContainer object of 8 artists>)"
      ]
     },
     "execution_count": 46,
     "metadata": {},
     "output_type": "execute_result"
    },
    {
     "data": {
      "image/png": "[encoded data removed]",
      "text/plain": [
       "<Figure size 432x288 with 1 Axes>"
      ]
     },
     "metadata": {
      "needs_background": "light"
     },
     "output_type": "display_data"
    }
   ],
   "source": [
    "plt.hist(user_rebuy.age_range.tolist(),bins=user_rebuy.age_range.nunique()-1)"
   ]
  },
  {
   "cell_type": "markdown",
   "id": "e2953747",
   "metadata": {},
   "source": [
    "性别分布"
   ]
  },
  {
   "cell_type": "code",
   "execution_count": 49,
   "id": "d2a9d8c4",
   "metadata": {},
   "outputs": [
    {
     "data": {
      "text/plain": [
       "(array([292074., 121670.,  10426.]),\n",
       " array([0.        , 0.66666667, 1.33333333, 2.        ]),\n",
       " <BarContainer object of 3 artists>)"
      ]
     },
     "execution_count": 49,
     "metadata": {},
     "output_type": "execute_result"
    },
    {
     "data": {
      "image/png": "[encoded data removed]",
      "text/plain": [
       "<Figure size 432x288 with 1 Axes>"
      ]
     },
     "metadata": {
      "needs_background": "light"
     },
     "output_type": "display_data"
    }
   ],
   "source": [
    "plt.hist(user_rebuy.gender.tolist(), bins=user_rebuy.gender.nunique())"
   ]
  },
  {
   "cell_type": "markdown",
   "id": "562865c1",
   "metadata": {},
   "source": [
    "# RFM模型"
   ]
  },
  {
   "cell_type": "code",
   "execution_count": 17,
   "id": "89445f33",
   "metadata": {},
   "outputs": [
    {
     "data": {
      "text/html": [
       "<div>\n",
       "<style scoped>\n",
       "    .dataframe tbody tr th:only-of-type {\n",
       "        vertical-align: middle;\n",
       "    }\n",
       "\n",
       "    .dataframe tbody tr th {\n",
       "        vertical-align: top;\n",
       "    }\n",
       "\n",
       "    .dataframe thead th {\n",
       "        text-align: right;\n",
       "    }\n",
       "</style>\n",
       "<table border=\"1\" class=\"dataframe\">\n",
       "  <thead>\n",
       "    <tr style=\"text-align: right;\">\n",
       "      <th></th>\n",
       "      <th>user_id</th>\n",
       "      <th>if_rebuy</th>\n",
       "      <th>age_range</th>\n",
       "      <th>gender</th>\n",
       "      <th>last_time</th>\n",
       "      <th>time_freq</th>\n",
       "      <th>total_buy</th>\n",
       "    </tr>\n",
       "  </thead>\n",
       "  <tbody>\n",
       "    <tr>\n",
       "      <th>0</th>\n",
       "      <td>1</td>\n",
       "      <td>0</td>\n",
       "      <td>3.0</td>\n",
       "      <td>1.0</td>\n",
       "      <td>1021.0</td>\n",
       "      <td>0.030000</td>\n",
       "      <td>3</td>\n",
       "    </tr>\n",
       "    <tr>\n",
       "      <th>1</th>\n",
       "      <td>2</td>\n",
       "      <td>1</td>\n",
       "      <td>3.0</td>\n",
       "      <td>0.0</td>\n",
       "      <td>1010.0</td>\n",
       "      <td>0.024742</td>\n",
       "      <td>12</td>\n",
       "    </tr>\n",
       "    <tr>\n",
       "      <th>2</th>\n",
       "      <td>3</td>\n",
       "      <td>0</td>\n",
       "      <td>3.0</td>\n",
       "      <td>0.0</td>\n",
       "      <td>819.0</td>\n",
       "      <td>0.005042</td>\n",
       "      <td>3</td>\n",
       "    </tr>\n",
       "    <tr>\n",
       "      <th>3</th>\n",
       "      <td>4</td>\n",
       "      <td>0</td>\n",
       "      <td>0.0</td>\n",
       "      <td>0.0</td>\n",
       "      <td>0.0</td>\n",
       "      <td>0.000000</td>\n",
       "      <td>1</td>\n",
       "    </tr>\n",
       "    <tr>\n",
       "      <th>4</th>\n",
       "      <td>5</td>\n",
       "      <td>1</td>\n",
       "      <td>5.0</td>\n",
       "      <td>0.0</td>\n",
       "      <td>1029.0</td>\n",
       "      <td>0.018613</td>\n",
       "      <td>11</td>\n",
       "    </tr>\n",
       "    <tr>\n",
       "      <th>...</th>\n",
       "      <td>...</td>\n",
       "      <td>...</td>\n",
       "      <td>...</td>\n",
       "      <td>...</td>\n",
       "      <td>...</td>\n",
       "      <td>...</td>\n",
       "      <td>...</td>\n",
       "    </tr>\n",
       "    <tr>\n",
       "      <th>424165</th>\n",
       "      <td>424166</td>\n",
       "      <td>1</td>\n",
       "      <td>2.0</td>\n",
       "      <td>1.0</td>\n",
       "      <td>1109.0</td>\n",
       "      <td>0.016750</td>\n",
       "      <td>10</td>\n",
       "    </tr>\n",
       "    <tr>\n",
       "      <th>424166</th>\n",
       "      <td>424167</td>\n",
       "      <td>0</td>\n",
       "      <td>3.0</td>\n",
       "      <td>1.0</td>\n",
       "      <td>1108.0</td>\n",
       "      <td>0.008591</td>\n",
       "      <td>5</td>\n",
       "    </tr>\n",
       "    <tr>\n",
       "      <th>424167</th>\n",
       "      <td>424168</td>\n",
       "      <td>0</td>\n",
       "      <td>5.0</td>\n",
       "      <td>0.0</td>\n",
       "      <td>1103.0</td>\n",
       "      <td>0.013333</td>\n",
       "      <td>4</td>\n",
       "    </tr>\n",
       "    <tr>\n",
       "      <th>424168</th>\n",
       "      <td>424169</td>\n",
       "      <td>1</td>\n",
       "      <td>0.0</td>\n",
       "      <td>0.0</td>\n",
       "      <td>1110.0</td>\n",
       "      <td>0.025000</td>\n",
       "      <td>15</td>\n",
       "    </tr>\n",
       "    <tr>\n",
       "      <th>424169</th>\n",
       "      <td>424170</td>\n",
       "      <td>0</td>\n",
       "      <td>0.0</td>\n",
       "      <td>1.0</td>\n",
       "      <td>0.0</td>\n",
       "      <td>0.000000</td>\n",
       "      <td>1</td>\n",
       "    </tr>\n",
       "  </tbody>\n",
       "</table>\n",
       "<p>424170 rows × 7 columns</p>\n",
       "</div>"
      ],
      "text/plain": [
       "        user_id  if_rebuy  age_range  gender  last_time  time_freq  total_buy\n",
       "0             1         0        3.0     1.0     1021.0   0.030000          3\n",
       "1             2         1        3.0     0.0     1010.0   0.024742         12\n",
       "2             3         0        3.0     0.0      819.0   0.005042          3\n",
       "3             4         0        0.0     0.0        0.0   0.000000          1\n",
       "4             5         1        5.0     0.0     1029.0   0.018613         11\n",
       "...         ...       ...        ...     ...        ...        ...        ...\n",
       "424165   424166         1        2.0     1.0     1109.0   0.016750         10\n",
       "424166   424167         0        3.0     1.0     1108.0   0.008591          5\n",
       "424167   424168         0        5.0     0.0     1103.0   0.013333          4\n",
       "424168   424169         1        0.0     0.0     1110.0   0.025000         15\n",
       "424169   424170         0        0.0     1.0        0.0   0.000000          1\n",
       "\n",
       "[424170 rows x 7 columns]"
      ]
     },
     "execution_count": 17,
     "metadata": {},
     "output_type": "execute_result"
    }
   ],
   "source": [
    "user_rebuy = user_rebuy.merge(buy[buy['time_stamp']!=1111].groupby('user_id')['time_stamp'].aggregate('max').rename('last_time'), how='left', on='user_id').fillna(0)\n",
    "def time_freq(x):\n",
    "    if (x.max()-x.min()):\n",
    "        return len(x)/(x.max()-x.min())\n",
    "    else:\n",
    "        if len(x)>2:\n",
    "            return len(x)\n",
    "        else:\n",
    "            return 0.\n",
    "user_rebuy = user_rebuy.merge(buy.groupby('user_id')['time_stamp'].aggregate(time_freq).rename('time_freq'), how='left', on='user_id')\n",
    "user_rebuy = user_rebuy.merge(buy.groupby('user_id')['user_id'].aggregate('count').rename('total_buy'), how='left', on='user_id')\n",
    "user_rebuy"
   ]
  },
  {
   "cell_type": "code",
   "execution_count": 18,
   "id": "0bbcdff1",
   "metadata": {},
   "outputs": [
    {
     "name": "stdout",
     "output_type": "stream",
     "text": [
      "median R: 927.0\n",
      "median F: 0.016494845360824743\n",
      "median M: 5.0\n",
      "new buyer num: 83412\n",
      "mean F: 0.2964501916300758\n",
      "mean M: 7.1052761864346845\n",
      "max M: 822\n"
     ]
    }
   ],
   "source": [
    "print('median R:',user_rebuy.last_time.median())\n",
    "print('median F:',user_rebuy.time_freq.median())\n",
    "print('median M:',user_rebuy.total_buy.median())\n",
    "print('new buyer num:',(user_rebuy['last_time']==0).sum())\n",
    "print('mean F:',user_rebuy.time_freq.mean())\n",
    "print('mean M:',user_rebuy.total_buy.mean())\n",
    "print('max M:',user_rebuy.total_buy.max())"
   ]
  },
  {
   "cell_type": "code",
   "execution_count": 98,
   "id": "96888069",
   "metadata": {},
   "outputs": [
    {
     "data": {
      "text/plain": [
       "[<matplotlib.lines.Line2D at 0x272c63e1fa0>]"
      ]
     },
     "execution_count": 98,
     "metadata": {},
     "output_type": "execute_result"
    },
    {
     "data": {
      "image/png": "[encoded data removed]",
      "text/plain": [
       "<Figure size 432x288 with 1 Axes>"
      ]
     },
     "metadata": {
      "needs_background": "light"
     },
     "output_type": "display_data"
    }
   ],
   "source": [
    "# 最后一次购买距双十一天数分布\n",
    "def todate(x):\n",
    "    if x!= 0:\n",
    "        return '2021-'+str(int(x//100))+'-'+str(int(x-x//100*100))\n",
    "    else:\n",
    "        return np.nan\n",
    "user_rebuy['last_time_date'] = user_rebuy['last_time'].map(todate)\n",
    "user_rebuy['last_time_date'] = pd.to_datetime(user_rebuy['last_time_date'], format='%Y-%m-%d')\n",
    "plt.plot(pd.Series((pd.to_datetime('2021-11-11',format='%Y-%m-%d')-user_rebuy.last_time_date).value_counts().index).dt.days.sort_values(),(pd.to_datetime('2021-11-11',format='%Y-%m-%d')-user_rebuy.last_time_date).value_counts().sort_index())"
   ]
  },
  {
   "cell_type": "code",
   "execution_count": 107,
   "id": "108741dc",
   "metadata": {},
   "outputs": [
    {
     "data": {
      "text/plain": [
       "(array([5.9537e+04, 4.4670e+03, 1.4574e+04, 2.4198e+04, 2.1487e+04,\n",
       "        3.3544e+04, 2.5282e+04, 2.3748e+04, 2.0299e+04, 1.7240e+04,\n",
       "        2.1433e+04, 1.4910e+04, 1.3398e+04, 1.0067e+04, 9.5340e+03,\n",
       "        9.8340e+03, 7.7880e+03, 6.6890e+03, 6.0910e+03, 4.9560e+03,\n",
       "        4.2370e+03, 4.2530e+03, 3.5050e+03, 2.8580e+03, 3.1220e+03,\n",
       "        2.1600e+03, 2.0200e+03, 1.7840e+03, 1.6250e+03, 1.5270e+03,\n",
       "        1.4040e+03, 1.1160e+03, 9.9700e+02, 9.3900e+02, 7.8900e+02,\n",
       "        7.3100e+02, 7.2300e+02, 6.4500e+02, 5.5300e+02, 4.0000e+02,\n",
       "        4.0700e+02, 3.5800e+02, 3.9200e+02, 4.1100e+02, 2.5100e+02,\n",
       "        3.0300e+02, 2.1000e+02, 2.4400e+02, 2.2200e+02, 1.5400e+02,\n",
       "        2.0500e+02, 1.7500e+02, 1.6200e+02, 1.2100e+02, 1.3700e+02,\n",
       "        1.2600e+02, 1.2900e+02, 8.6000e+01, 7.8000e+01, 8.8000e+01,\n",
       "        7.6000e+01, 7.3000e+01, 6.3000e+01, 7.8000e+01, 4.1000e+01,\n",
       "        5.9000e+01, 4.2000e+01, 6.3000e+01, 5.2000e+01, 4.8000e+01,\n",
       "        4.2000e+01, 2.7000e+01, 3.7000e+01, 4.5000e+01, 2.4000e+01,\n",
       "        2.3000e+01, 2.4000e+01, 2.3000e+01, 2.0000e+01, 1.8000e+01,\n",
       "        3.1000e+01, 2.0000e+01, 1.2000e+01, 1.8000e+01, 1.2000e+01,\n",
       "        1.4000e+01, 1.6000e+01, 1.7000e+01, 8.0000e+00, 8.0000e+00,\n",
       "        9.0000e+00, 1.1000e+01, 5.0000e+00, 6.0000e+00, 7.0000e+00,\n",
       "        9.0000e+00, 9.0000e+00, 8.0000e+00, 9.0000e+00, 2.9300e+02]),\n",
       " array([0.   , 0.002, 0.004, 0.006, 0.008, 0.01 , 0.012, 0.014, 0.016,\n",
       "        0.018, 0.02 , 0.022, 0.024, 0.026, 0.028, 0.03 , 0.032, 0.034,\n",
       "        0.036, 0.038, 0.04 , 0.042, 0.044, 0.046, 0.048, 0.05 , 0.052,\n",
       "        0.054, 0.056, 0.058, 0.06 , 0.062, 0.064, 0.066, 0.068, 0.07 ,\n",
       "        0.072, 0.074, 0.076, 0.078, 0.08 , 0.082, 0.084, 0.086, 0.088,\n",
       "        0.09 , 0.092, 0.094, 0.096, 0.098, 0.1  , 0.102, 0.104, 0.106,\n",
       "        0.108, 0.11 , 0.112, 0.114, 0.116, 0.118, 0.12 , 0.122, 0.124,\n",
       "        0.126, 0.128, 0.13 , 0.132, 0.134, 0.136, 0.138, 0.14 , 0.142,\n",
       "        0.144, 0.146, 0.148, 0.15 , 0.152, 0.154, 0.156, 0.158, 0.16 ,\n",
       "        0.162, 0.164, 0.166, 0.168, 0.17 , 0.172, 0.174, 0.176, 0.178,\n",
       "        0.18 , 0.182, 0.184, 0.186, 0.188, 0.19 , 0.192, 0.194, 0.196,\n",
       "        0.198, 0.2  ]),\n",
       " <BarContainer object of 100 artists>)"
      ]
     },
     "execution_count": 107,
     "metadata": {},
     "output_type": "execute_result"
    },
    {
     "data": {
      "image/png": "[encoded data removed]",
      "text/plain": [
       "<Figure size 432x288 with 1 Axes>"
      ]
     },
     "metadata": {
      "needs_background": "light"
     },
     "output_type": "display_data"
    }
   ],
   "source": [
    "# 购买频数分布\n",
    "plt.hist(user_rebuy.loc[user_rebuy['time_freq']<=0.2,'time_freq'],bins=100)"
   ]
  },
  {
   "cell_type": "code",
   "execution_count": 109,
   "id": "f49483d4",
   "metadata": {},
   "outputs": [
    {
     "data": {
      "text/plain": [
       "(array([3.8900e+04, 0.0000e+00, 5.2062e+04, 0.0000e+00, 5.1420e+04,\n",
       "        0.0000e+00, 4.5803e+04, 0.0000e+00, 3.8416e+04, 0.0000e+00,\n",
       "        3.2239e+04, 0.0000e+00, 2.6636e+04, 0.0000e+00, 2.1901e+04,\n",
       "        0.0000e+00, 1.7997e+04, 0.0000e+00, 1.5055e+04, 0.0000e+00,\n",
       "        1.2574e+04, 0.0000e+00, 1.0496e+04, 0.0000e+00, 8.6900e+03,\n",
       "        0.0000e+00, 7.3540e+03, 0.0000e+00, 6.2170e+03, 0.0000e+00,\n",
       "        5.1330e+03, 0.0000e+00, 4.5540e+03, 0.0000e+00, 3.7720e+03,\n",
       "        0.0000e+00, 3.3410e+03, 0.0000e+00, 2.7680e+03, 0.0000e+00,\n",
       "        2.3600e+03, 0.0000e+00, 2.1060e+03, 0.0000e+00, 1.7620e+03,\n",
       "        0.0000e+00, 1.4970e+03, 0.0000e+00, 1.3050e+03, 0.0000e+00,\n",
       "        0.0000e+00, 1.1550e+03, 0.0000e+00, 9.8200e+02, 0.0000e+00,\n",
       "        9.0100e+02, 0.0000e+00, 7.6200e+02, 0.0000e+00, 6.4700e+02,\n",
       "        0.0000e+00, 5.7800e+02, 0.0000e+00, 4.9200e+02, 0.0000e+00,\n",
       "        4.3500e+02, 0.0000e+00, 3.9700e+02, 0.0000e+00, 3.5000e+02,\n",
       "        0.0000e+00, 2.9000e+02, 0.0000e+00, 2.6600e+02, 0.0000e+00,\n",
       "        2.3300e+02, 0.0000e+00, 2.3100e+02, 0.0000e+00, 2.0700e+02,\n",
       "        0.0000e+00, 1.6300e+02, 0.0000e+00, 1.6500e+02, 0.0000e+00,\n",
       "        1.2700e+02, 0.0000e+00, 1.2200e+02, 0.0000e+00, 1.0500e+02,\n",
       "        0.0000e+00, 9.7000e+01, 0.0000e+00, 8.8000e+01, 0.0000e+00,\n",
       "        8.1000e+01, 0.0000e+00, 5.5000e+01, 0.0000e+00, 5.2000e+01]),\n",
       " array([ 1.  ,  1.49,  1.98,  2.47,  2.96,  3.45,  3.94,  4.43,  4.92,\n",
       "         5.41,  5.9 ,  6.39,  6.88,  7.37,  7.86,  8.35,  8.84,  9.33,\n",
       "         9.82, 10.31, 10.8 , 11.29, 11.78, 12.27, 12.76, 13.25, 13.74,\n",
       "        14.23, 14.72, 15.21, 15.7 , 16.19, 16.68, 17.17, 17.66, 18.15,\n",
       "        18.64, 19.13, 19.62, 20.11, 20.6 , 21.09, 21.58, 22.07, 22.56,\n",
       "        23.05, 23.54, 24.03, 24.52, 25.01, 25.5 , 25.99, 26.48, 26.97,\n",
       "        27.46, 27.95, 28.44, 28.93, 29.42, 29.91, 30.4 , 30.89, 31.38,\n",
       "        31.87, 32.36, 32.85, 33.34, 33.83, 34.32, 34.81, 35.3 , 35.79,\n",
       "        36.28, 36.77, 37.26, 37.75, 38.24, 38.73, 39.22, 39.71, 40.2 ,\n",
       "        40.69, 41.18, 41.67, 42.16, 42.65, 43.14, 43.63, 44.12, 44.61,\n",
       "        45.1 , 45.59, 46.08, 46.57, 47.06, 47.55, 48.04, 48.53, 49.02,\n",
       "        49.51, 50.  ]),\n",
       " <BarContainer object of 100 artists>)"
      ]
     },
     "execution_count": 109,
     "metadata": {},
     "output_type": "execute_result"
    },
    {
     "data": {
      "image/png": "[encoded data removed]",
      "text/plain": [
       "<Figure size 432x288 with 1 Axes>"
      ]
     },
     "metadata": {
      "needs_background": "light"
     },
     "output_type": "display_data"
    }
   ],
   "source": [
    "# 购买总数分布\n",
    "plt.hist(user_rebuy.loc[user_rebuy['total_buy']<=50,'total_buy'],bins=100)"
   ]
  },
  {
   "cell_type": "code",
   "execution_count": 19,
   "id": "794db4e8",
   "metadata": {},
   "outputs": [
    {
     "name": "stdout",
     "output_type": "stream",
     "text": [
      "重要价值 13076 占比 3.0827262654124525\n",
      "重要发展 70883 占比 16.710988518754274\n",
      "重要保持 2881 占比 0.6792088077893298\n",
      "重要挽留 29953 占比 7.061555508404649\n",
      "一般价值 17791 占比 4.194308885588326\n",
      "一般发展 82661 占比 19.48770540113634\n",
      "一般保持 23371 占比 5.509819176273664\n",
      "一般挽留 124017 占比 29.23756984228022\n",
      "新用户 59537 占比 14.036117594360752\n"
     ]
    }
   ],
   "source": [
    "# 先凭经验分割\n",
    "# 1010，0.05，9\n",
    "user_rebuy.loc[(user_rebuy['last_time']>=1010)&(user_rebuy['time_freq']>=0.05)&(user_rebuy['total_buy']>=9),'type'] = '重要价值'\n",
    "user_rebuy.loc[(user_rebuy['last_time']>=1010)&(user_rebuy['time_freq']<0.05)&(user_rebuy['total_buy']>=9),'type'] = '重要发展'\n",
    "user_rebuy.loc[(user_rebuy['last_time']<1010)&(user_rebuy['time_freq']>=0.05)&(user_rebuy['total_buy']>=9),'type'] = '重要保持'\n",
    "user_rebuy.loc[(user_rebuy['last_time']<1010)&(user_rebuy['time_freq']<0.05)&(user_rebuy['total_buy']>=9),'type'] = '重要挽留'\n",
    "user_rebuy.loc[(user_rebuy['last_time']>=1010)&(user_rebuy['time_freq']>=0.05)&(user_rebuy['total_buy']<9),'type'] = '一般价值'\n",
    "user_rebuy.loc[(user_rebuy['last_time']>=1010)&(user_rebuy['time_freq']<0.05)&(user_rebuy['total_buy']<9),'type'] = '一般发展'\n",
    "user_rebuy.loc[(user_rebuy['last_time']<1010)&(user_rebuy['time_freq']>=0.05)&(user_rebuy['total_buy']<9),'type'] = '一般保持'\n",
    "user_rebuy.loc[(user_rebuy['last_time']<1010)&(user_rebuy['last_time']!=0)&(user_rebuy['time_freq']<0.05)&(user_rebuy['total_buy']<9),'type'] = '一般挽留'\n",
    "user_rebuy.loc[(user_rebuy['last_time']==0)&(user_rebuy['time_freq']<0.05)&(user_rebuy['total_buy']<9),'type'] = '新用户'\n",
    "print('重要价值',user_rebuy[user_rebuy['type']=='重要价值'].shape[0],'占比',user_rebuy[user_rebuy['type']=='重要价值'].shape[0]/4241.7)\n",
    "print('重要发展',user_rebuy[user_rebuy['type']=='重要发展'].shape[0],'占比',user_rebuy[user_rebuy['type']=='重要发展'].shape[0]/4241.7)\n",
    "print('重要保持',user_rebuy[user_rebuy['type']=='重要保持'].shape[0],'占比',user_rebuy[user_rebuy['type']=='重要保持'].shape[0]/4241.7)\n",
    "print('重要挽留',user_rebuy[user_rebuy['type']=='重要挽留'].shape[0],'占比',user_rebuy[user_rebuy['type']=='重要挽留'].shape[0]/4241.7)\n",
    "print('一般价值',user_rebuy[user_rebuy['type']=='一般价值'].shape[0],'占比',user_rebuy[user_rebuy['type']=='一般价值'].shape[0]/4241.7)\n",
    "print('一般发展',user_rebuy[user_rebuy['type']=='一般发展'].shape[0],'占比',user_rebuy[user_rebuy['type']=='一般发展'].shape[0]/4241.7)\n",
    "print('一般保持',user_rebuy[user_rebuy['type']=='一般保持'].shape[0],'占比',user_rebuy[user_rebuy['type']=='一般保持'].shape[0]/4241.7)\n",
    "print('一般挽留',user_rebuy[user_rebuy['type']=='一般挽留'].shape[0],'占比',user_rebuy[user_rebuy['type']=='一般挽留'].shape[0]/4241.7)\n",
    "print('新用户',user_rebuy[user_rebuy['type']=='新用户'].shape[0],'占比',user_rebuy[user_rebuy['type']=='新用户'].shape[0]/4241.7)"
   ]
  },
  {
   "cell_type": "code",
   "execution_count": 20,
   "id": "69db30db",
   "metadata": {},
   "outputs": [
    {
     "data": {
      "text/plain": [
       "Text(0.5, 1.0, '不同type用户复购率')"
      ]
     },
     "execution_count": 20,
     "metadata": {},
     "output_type": "execute_result"
    },
    {
     "data": {
      "image/png": "[encoded data removed]",
      "text/plain": [
       "<Figure size 432x288 with 1 Axes>"
      ]
     },
     "metadata": {
      "needs_background": "light"
     },
     "output_type": "display_data"
    }
   ],
   "source": [
    "plt.bar(x = user_rebuy.type.unique(), height=[user_rebuy.loc[user_rebuy['type']==i,'if_rebuy'].mean() for i in user_rebuy.type.unique()])\n",
    "plt.xticks(rotation=45)\n",
    "plt.title('不同type用户复购率')"
   ]
  },
  {
   "cell_type": "code",
   "execution_count": 21,
   "id": "5ab44aae",
   "metadata": {},
   "outputs": [
    {
     "data": {
      "image/png": "[encoded data removed]",
      "text/plain": [
       "<Figure size 432x288 with 4 Axes>"
      ]
     },
     "metadata": {},
     "output_type": "display_data"
    }
   ],
   "source": [
    "plt.subplot(2,2,1)\n",
    "plt.pie(labels = user_rebuy.gender.unique(), x=[user_rebuy[(user_rebuy['gender']==i)&(user_rebuy['type']=='重要价值')].shape[0] for i in user_rebuy.gender.unique()],autopct='%.2f%%')\n",
    "plt.title('重要价值用户男女比')\n",
    "plt.subplot(2,2,2)\n",
    "plt.pie(labels = user_rebuy.gender.unique(), x=[user_rebuy[(user_rebuy['gender']==i)&(user_rebuy['type']=='重要发展')].shape[0] for i in user_rebuy.gender.unique()],autopct='%.2f%%')\n",
    "plt.title('重要发展用户男女比')\n",
    "plt.subplot(2,2,3)\n",
    "plt.pie(labels = user_rebuy.gender.unique(), x=[user_rebuy[(user_rebuy['gender']==i)&(user_rebuy['type']=='重要保持')].shape[0] for i in user_rebuy.gender.unique()],autopct='%.2f%%')\n",
    "plt.title('重要保持用户男女比')\n",
    "plt.subplot(2,2,4)\n",
    "plt.pie(labels = user_rebuy.gender.unique(), x=[user_rebuy[(user_rebuy['gender']==i)&(user_rebuy['type']=='重要挽留')].shape[0] for i in user_rebuy.gender.unique()],autopct='%.2f%%')\n",
    "plt.title('重要挽留用户男女比')\n",
    "plt.show()"
   ]
  },
  {
   "cell_type": "code",
   "execution_count": 22,
   "id": "307d9cda",
   "metadata": {},
   "outputs": [
    {
     "data": {
      "image/png": "[encoded data removed]",
      "text/plain": [
       "<Figure size 432x288 with 4 Axes>"
      ]
     },
     "metadata": {},
     "output_type": "display_data"
    }
   ],
   "source": [
    "plt.subplot(2,2,1)\n",
    "plt.pie(labels = user_rebuy.gender.unique(), x=[user_rebuy[(user_rebuy['gender']==i)&(user_rebuy['type']=='一般价值')].shape[0] for i in user_rebuy.gender.unique()],autopct='%.2f%%')\n",
    "plt.title('一般价值用户男女比')\n",
    "plt.subplot(2,2,2)\n",
    "plt.pie(labels = user_rebuy.gender.unique(), x=[user_rebuy[(user_rebuy['gender']==i)&(user_rebuy['type']=='一般发展')].shape[0] for i in user_rebuy.gender.unique()],autopct='%.2f%%')\n",
    "plt.title('一般发展用户男女比')\n",
    "plt.subplot(2,2,3)\n",
    "plt.pie(labels = user_rebuy.gender.unique(), x=[user_rebuy[(user_rebuy['gender']==i)&(user_rebuy['type']=='一般保持')].shape[0] for i in user_rebuy.gender.unique()],autopct='%.2f%%')\n",
    "plt.title('一般保持用户男女比')\n",
    "plt.subplot(2,2,4)\n",
    "plt.pie(labels = user_rebuy.gender.unique(), x=[user_rebuy[(user_rebuy['gender']==i)&(user_rebuy['type']=='一般挽留')].shape[0] for i in user_rebuy.gender.unique()],autopct='%.2f%%')\n",
    "plt.title('一般挽留用户男女比')\n",
    "plt.show()"
   ]
  },
  {
   "cell_type": "code",
   "execution_count": 23,
   "id": "e3427b12",
   "metadata": {},
   "outputs": [
    {
     "data": {
      "image/png": "[encoded data removed]",
      "text/plain": [
       "<Figure size 432x288 with 1 Axes>"
      ]
     },
     "metadata": {},
     "output_type": "display_data"
    }
   ],
   "source": [
    "plt.pie(labels = user_rebuy.gender.unique(), x=[user_rebuy[(user_rebuy['gender']==i)&(user_rebuy['type']=='新用户')].shape[0] for i in user_rebuy.gender.unique()],autopct='%.2f%%')\n",
    "plt.title('新用户男女比')\n",
    "plt.show()"
   ]
  },
  {
   "cell_type": "code",
   "execution_count": 24,
   "id": "b22ab621",
   "metadata": {},
   "outputs": [
    {
     "data": {
      "text/plain": [
       "<matplotlib.legend.Legend at 0x2729b11b610>"
      ]
     },
     "execution_count": 24,
     "metadata": {},
     "output_type": "execute_result"
    },
    {
     "data": {
      "image/png": "[encoded data removed]",
      "text/plain": [
       "<Figure size 1080x720 with 4 Axes>"
      ]
     },
     "metadata": {
      "needs_background": "light"
     },
     "output_type": "display_data"
    }
   ],
   "source": [
    "plt.figure(figsize=(15,10))\n",
    "plt.subplot(2,2,1)\n",
    "plt.bar(x = user_rebuy.age_range.unique(), height=[user_rebuy[(user_rebuy['age_range']==i)&(user_rebuy['type']=='重要价值')&(user_rebuy['gender']==1.)].shape[0] for i in user_rebuy.age_range.unique()],label='男')\n",
    "plt.bar(x = user_rebuy.age_range.unique(), height=[user_rebuy[(user_rebuy['age_range']==i)&(user_rebuy['type']=='重要价值')&(user_rebuy['gender']==0.)].shape[0] for i in user_rebuy.age_range.unique()],bottom=[user_rebuy[(user_rebuy['age_range']==i)&(user_rebuy['type']=='重要价值')&(user_rebuy['gender']==1.)].shape[0] for i in user_rebuy.age_range.unique()],label='女')\n",
    "plt.bar(x = user_rebuy.age_range.unique(), height=[user_rebuy[(user_rebuy['age_range']==i)&(user_rebuy['type']=='重要价值')&(user_rebuy['gender']==2.)].shape[0] for i in user_rebuy.age_range.unique()],bottom=np.array([user_rebuy[(user_rebuy['age_range']==i)&(user_rebuy['type']=='重要价值')&(user_rebuy['gender']==0.)].shape[0] for i in user_rebuy.age_range.unique()])+np.array([user_rebuy[(user_rebuy['age_range']==i)&(user_rebuy['type']=='重要价值')&(user_rebuy['gender']==1.)].shape[0] for i in user_rebuy.age_range.unique()]),label='未知')\n",
    "plt.xticks(rotation=45)\n",
    "plt.title('重要价值用户年龄构成')\n",
    "plt.legend()\n",
    "plt.subplot(2,2,2)\n",
    "plt.bar(x = user_rebuy.age_range.unique(), height=[user_rebuy[(user_rebuy['age_range']==i)&(user_rebuy['type']=='重要发展')&(user_rebuy['gender']==1.)].shape[0] for i in user_rebuy.age_range.unique()],label='男')\n",
    "plt.bar(x = user_rebuy.age_range.unique(), height=[user_rebuy[(user_rebuy['age_range']==i)&(user_rebuy['type']=='重要发展')&(user_rebuy['gender']==0.)].shape[0] for i in user_rebuy.age_range.unique()],bottom=[user_rebuy[(user_rebuy['age_range']==i)&(user_rebuy['type']=='重要发展')&(user_rebuy['gender']==1.)].shape[0] for i in user_rebuy.age_range.unique()],label='女')\n",
    "plt.bar(x = user_rebuy.age_range.unique(), height=[user_rebuy[(user_rebuy['age_range']==i)&(user_rebuy['type']=='重要发展')&(user_rebuy['gender']==2.)].shape[0] for i in user_rebuy.age_range.unique()],bottom=np.array([user_rebuy[(user_rebuy['age_range']==i)&(user_rebuy['type']=='重要发展')&(user_rebuy['gender']==0.)].shape[0] for i in user_rebuy.age_range.unique()])+np.array([user_rebuy[(user_rebuy['age_range']==i)&(user_rebuy['type']=='重要发展')&(user_rebuy['gender']==1.)].shape[0] for i in user_rebuy.age_range.unique()]),label='未知')\n",
    "plt.xticks(rotation=45)\n",
    "plt.title('重要发展用户年龄构成')\n",
    "plt.legend()\n",
    "plt.subplot(2,2,3)\n",
    "plt.bar(x = user_rebuy.age_range.unique(), height=[user_rebuy[(user_rebuy['age_range']==i)&(user_rebuy['type']=='重要保持')&(user_rebuy['gender']==1.)].shape[0] for i in user_rebuy.age_range.unique()],label='男')\n",
    "plt.bar(x = user_rebuy.age_range.unique(), height=[user_rebuy[(user_rebuy['age_range']==i)&(user_rebuy['type']=='重要保持')&(user_rebuy['gender']==0.)].shape[0] for i in user_rebuy.age_range.unique()],bottom=[user_rebuy[(user_rebuy['age_range']==i)&(user_rebuy['type']=='重要保持')&(user_rebuy['gender']==1.)].shape[0] for i in user_rebuy.age_range.unique()],label='女')\n",
    "plt.bar(x = user_rebuy.age_range.unique(), height=[user_rebuy[(user_rebuy['age_range']==i)&(user_rebuy['type']=='重要保持')&(user_rebuy['gender']==2.)].shape[0] for i in user_rebuy.age_range.unique()],bottom=np.array([user_rebuy[(user_rebuy['age_range']==i)&(user_rebuy['type']=='重要保持')&(user_rebuy['gender']==0.)].shape[0] for i in user_rebuy.age_range.unique()])+np.array([user_rebuy[(user_rebuy['age_range']==i)&(user_rebuy['type']=='重要保持')&(user_rebuy['gender']==1.)].shape[0] for i in user_rebuy.age_range.unique()]),label='未知')\n",
    "plt.xticks(rotation=45)\n",
    "plt.title('重要保持用户年龄构成')\n",
    "plt.legend()\n",
    "plt.subplot(2,2,4)\n",
    "plt.bar(x = user_rebuy.age_range.unique(), height=[user_rebuy[(user_rebuy['age_range']==i)&(user_rebuy['type']=='重要挽留')&(user_rebuy['gender']==1.)].shape[0] for i in user_rebuy.age_range.unique()],label='男')\n",
    "plt.bar(x = user_rebuy.age_range.unique(), height=[user_rebuy[(user_rebuy['age_range']==i)&(user_rebuy['type']=='重要挽留')&(user_rebuy['gender']==0.)].shape[0] for i in user_rebuy.age_range.unique()],bottom=[user_rebuy[(user_rebuy['age_range']==i)&(user_rebuy['type']=='重要挽留')&(user_rebuy['gender']==1.)].shape[0] for i in user_rebuy.age_range.unique()],label='女')\n",
    "plt.bar(x = user_rebuy.age_range.unique(), height=[user_rebuy[(user_rebuy['age_range']==i)&(user_rebuy['type']=='重要挽留')&(user_rebuy['gender']==2.)].shape[0] for i in user_rebuy.age_range.unique()],bottom=np.array([user_rebuy[(user_rebuy['age_range']==i)&(user_rebuy['type']=='重要挽留')&(user_rebuy['gender']==0.)].shape[0] for i in user_rebuy.age_range.unique()])+np.array([user_rebuy[(user_rebuy['age_range']==i)&(user_rebuy['type']=='重要挽留')&(user_rebuy['gender']==1.)].shape[0] for i in user_rebuy.age_range.unique()]),label='未知')\n",
    "plt.xticks(rotation=45)\n",
    "plt.title('重要挽留用户年龄构成')\n",
    "plt.legend()"
   ]
  },
  {
   "cell_type": "code",
   "execution_count": 25,
   "id": "c3f539a0",
   "metadata": {},
   "outputs": [
    {
     "data": {
      "text/plain": [
       "<matplotlib.legend.Legend at 0x2729a04f4c0>"
      ]
     },
     "execution_count": 25,
     "metadata": {},
     "output_type": "execute_result"
    },
    {
     "data": {
      "image/png": "[encoded data removed]",
      "text/plain": [
       "<Figure size 1080x720 with 4 Axes>"
      ]
     },
     "metadata": {
      "needs_background": "light"
     },
     "output_type": "display_data"
    }
   ],
   "source": [
    "plt.figure(figsize=(15,10))\n",
    "plt.subplot(2,2,1)\n",
    "plt.bar(x = user_rebuy.age_range.unique(), height=[user_rebuy[(user_rebuy['age_range']==i)&(user_rebuy['type']=='一般价值')&(user_rebuy['gender']==1.)].shape[0] for i in user_rebuy.age_range.unique()],label='男')\n",
    "plt.bar(x = user_rebuy.age_range.unique(), height=[user_rebuy[(user_rebuy['age_range']==i)&(user_rebuy['type']=='一般价值')&(user_rebuy['gender']==0.)].shape[0] for i in user_rebuy.age_range.unique()],bottom=[user_rebuy[(user_rebuy['age_range']==i)&(user_rebuy['type']=='一般价值')&(user_rebuy['gender']==1.)].shape[0] for i in user_rebuy.age_range.unique()],label='女')\n",
    "plt.bar(x = user_rebuy.age_range.unique(), height=[user_rebuy[(user_rebuy['age_range']==i)&(user_rebuy['type']=='一般价值')&(user_rebuy['gender']==2.)].shape[0] for i in user_rebuy.age_range.unique()],bottom=np.array([user_rebuy[(user_rebuy['age_range']==i)&(user_rebuy['type']=='一般价值')&(user_rebuy['gender']==0.)].shape[0] for i in user_rebuy.age_range.unique()])+np.array([user_rebuy[(user_rebuy['age_range']==i)&(user_rebuy['type']=='一般价值')&(user_rebuy['gender']==1.)].shape[0] for i in user_rebuy.age_range.unique()]),label='未知')\n",
    "plt.xticks(rotation=45)\n",
    "plt.title('一般价值用户年龄构成')\n",
    "plt.legend()\n",
    "plt.subplot(2,2,2)\n",
    "plt.bar(x = user_rebuy.age_range.unique(), height=[user_rebuy[(user_rebuy['age_range']==i)&(user_rebuy['type']=='一般发展')&(user_rebuy['gender']==1.)].shape[0] for i in user_rebuy.age_range.unique()],label='男')\n",
    "plt.bar(x = user_rebuy.age_range.unique(), height=[user_rebuy[(user_rebuy['age_range']==i)&(user_rebuy['type']=='一般发展')&(user_rebuy['gender']==0.)].shape[0] for i in user_rebuy.age_range.unique()],bottom=[user_rebuy[(user_rebuy['age_range']==i)&(user_rebuy['type']=='一般发展')&(user_rebuy['gender']==1.)].shape[0] for i in user_rebuy.age_range.unique()],label='女')\n",
    "plt.bar(x = user_rebuy.age_range.unique(), height=[user_rebuy[(user_rebuy['age_range']==i)&(user_rebuy['type']=='一般发展')&(user_rebuy['gender']==2.)].shape[0] for i in user_rebuy.age_range.unique()],bottom=np.array([user_rebuy[(user_rebuy['age_range']==i)&(user_rebuy['type']=='一般发展')&(user_rebuy['gender']==0.)].shape[0] for i in user_rebuy.age_range.unique()])+np.array([user_rebuy[(user_rebuy['age_range']==i)&(user_rebuy['type']=='一般发展')&(user_rebuy['gender']==1.)].shape[0] for i in user_rebuy.age_range.unique()]),label='未知')\n",
    "plt.xticks(rotation=45)\n",
    "plt.title('一般发展用户年龄构成')\n",
    "plt.legend()\n",
    "plt.subplot(2,2,3)\n",
    "plt.bar(x = user_rebuy.age_range.unique(), height=[user_rebuy[(user_rebuy['age_range']==i)&(user_rebuy['type']=='一般保持')&(user_rebuy['gender']==1.)].shape[0] for i in user_rebuy.age_range.unique()],label='男')\n",
    "plt.bar(x = user_rebuy.age_range.unique(), height=[user_rebuy[(user_rebuy['age_range']==i)&(user_rebuy['type']=='一般保持')&(user_rebuy['gender']==0.)].shape[0] for i in user_rebuy.age_range.unique()],bottom=[user_rebuy[(user_rebuy['age_range']==i)&(user_rebuy['type']=='一般保持')&(user_rebuy['gender']==1.)].shape[0] for i in user_rebuy.age_range.unique()],label='女')\n",
    "plt.bar(x = user_rebuy.age_range.unique(), height=[user_rebuy[(user_rebuy['age_range']==i)&(user_rebuy['type']=='一般保持')&(user_rebuy['gender']==2.)].shape[0] for i in user_rebuy.age_range.unique()],bottom=np.array([user_rebuy[(user_rebuy['age_range']==i)&(user_rebuy['type']=='一般保持')&(user_rebuy['gender']==0.)].shape[0] for i in user_rebuy.age_range.unique()])+np.array([user_rebuy[(user_rebuy['age_range']==i)&(user_rebuy['type']=='一般保持')&(user_rebuy['gender']==1.)].shape[0] for i in user_rebuy.age_range.unique()]),label='未知')\n",
    "plt.xticks(rotation=45)\n",
    "plt.title('一般保持用户年龄构成')\n",
    "plt.legend()\n",
    "plt.subplot(2,2,4)\n",
    "plt.bar(x = user_rebuy.age_range.unique(), height=[user_rebuy[(user_rebuy['age_range']==i)&(user_rebuy['type']=='一般挽留')&(user_rebuy['gender']==1.)].shape[0] for i in user_rebuy.age_range.unique()],label='男')\n",
    "plt.bar(x = user_rebuy.age_range.unique(), height=[user_rebuy[(user_rebuy['age_range']==i)&(user_rebuy['type']=='一般挽留')&(user_rebuy['gender']==0.)].shape[0] for i in user_rebuy.age_range.unique()],bottom=[user_rebuy[(user_rebuy['age_range']==i)&(user_rebuy['type']=='一般挽留')&(user_rebuy['gender']==1.)].shape[0] for i in user_rebuy.age_range.unique()],label='女')\n",
    "plt.bar(x = user_rebuy.age_range.unique(), height=[user_rebuy[(user_rebuy['age_range']==i)&(user_rebuy['type']=='一般挽留')&(user_rebuy['gender']==2.)].shape[0] for i in user_rebuy.age_range.unique()],bottom=np.array([user_rebuy[(user_rebuy['age_range']==i)&(user_rebuy['type']=='一般挽留')&(user_rebuy['gender']==0.)].shape[0] for i in user_rebuy.age_range.unique()])+np.array([user_rebuy[(user_rebuy['age_range']==i)&(user_rebuy['type']=='一般挽留')&(user_rebuy['gender']==1.)].shape[0] for i in user_rebuy.age_range.unique()]),label='未知')\n",
    "plt.xticks(rotation=45)\n",
    "plt.title('一般挽留用户年龄构成')\n",
    "plt.legend()"
   ]
  },
  {
   "cell_type": "code",
   "execution_count": 26,
   "id": "562ba5db",
   "metadata": {},
   "outputs": [
    {
     "data": {
      "text/plain": [
       "<matplotlib.legend.Legend at 0x2729a080cd0>"
      ]
     },
     "execution_count": 26,
     "metadata": {},
     "output_type": "execute_result"
    },
    {
     "data": {
      "image/png": "[encoded data removed]",
      "text/plain": [
       "<Figure size 432x288 with 1 Axes>"
      ]
     },
     "metadata": {
      "needs_background": "light"
     },
     "output_type": "display_data"
    }
   ],
   "source": [
    "plt.bar(x = user_rebuy.age_range.unique(), height=[user_rebuy[(user_rebuy['age_range']==i)&(user_rebuy['type']=='新用户')&(user_rebuy['gender']==1.)].shape[0] for i in user_rebuy.age_range.unique()],label='男')\n",
    "plt.bar(x = user_rebuy.age_range.unique(), height=[user_rebuy[(user_rebuy['age_range']==i)&(user_rebuy['type']=='新用户')&(user_rebuy['gender']==0.)].shape[0] for i in user_rebuy.age_range.unique()],bottom=[user_rebuy[(user_rebuy['age_range']==i)&(user_rebuy['type']=='新用户')&(user_rebuy['gender']==1.)].shape[0] for i in user_rebuy.age_range.unique()],label='女')\n",
    "plt.bar(x = user_rebuy.age_range.unique(), height=[user_rebuy[(user_rebuy['age_range']==i)&(user_rebuy['type']=='新用户')&(user_rebuy['gender']==2.)].shape[0] for i in user_rebuy.age_range.unique()],bottom=np.array([user_rebuy[(user_rebuy['age_range']==i)&(user_rebuy['type']=='新用户')&(user_rebuy['gender']==0.)].shape[0] for i in user_rebuy.age_range.unique()])+np.array([user_rebuy[(user_rebuy['age_range']==i)&(user_rebuy['type']=='新用户')&(user_rebuy['gender']==1.)].shape[0] for i in user_rebuy.age_range.unique()]),label='未知')\n",
    "plt.xticks(rotation=45)\n",
    "plt.title('新用户年龄构成')\n",
    "plt.legend()"
   ]
  },
  {
   "cell_type": "markdown",
   "id": "fb9e8910",
   "metadata": {},
   "source": [
    "复购用户与未复购用户"
   ]
  },
  {
   "cell_type": "code",
   "execution_count": 27,
   "id": "341694ef",
   "metadata": {},
   "outputs": [
    {
     "data": {
      "text/plain": [
       "([<matplotlib.patches.Wedge at 0x2729e62fb50>,\n",
       "  <matplotlib.patches.Wedge at 0x2729e63d310>],\n",
       " [Text(-0.14504277912625696, 1.0903956127128043, '复购'),\n",
       "  Text(0.14504288121646153, -1.0903955991329144, '未复购')],\n",
       " [Text(-0.07911424315977651, 0.5947612432978931, '54.21%'),\n",
       "  Text(0.07911429884534264, -0.5947612358906805, '45.79%')])"
      ]
     },
     "execution_count": 27,
     "metadata": {},
     "output_type": "execute_result"
    },
    {
     "data": {
      "image/png": "[encoded data removed]",
      "text/plain": [
       "<Figure size 432x288 with 1 Axes>"
      ]
     },
     "metadata": {},
     "output_type": "display_data"
    }
   ],
   "source": [
    "plt.pie(labels=['复购','未复购'],x=[user_rebuy[user_rebuy['if_rebuy']==1].shape[0],user_rebuy[user_rebuy['if_rebuy']==0].shape[0]],autopct='%.2f%%')"
   ]
  },
  {
   "cell_type": "markdown",
   "id": "68cd13a8",
   "metadata": {},
   "source": [
    "复购商店数与用户各特征关系"
   ]
  },
  {
   "cell_type": "code",
   "execution_count": 28,
   "id": "5b9b1c00",
   "metadata": {},
   "outputs": [],
   "source": [
    "# 添加一列复购商店数\n",
    "user_rebuy = user_rebuy.merge(buy.loc[buy['if_rebuy']==1,['user_id','merchant_id']].drop_duplicates().groupby('user_id')['merchant_id'].aggregate('count'),how='left',on='user_id').rename(columns={'merchant_id':'rebuy_mer_cnt'}).fillna(0.)"
   ]
  },
  {
   "cell_type": "code",
   "execution_count": 29,
   "id": "78b911bd",
   "metadata": {},
   "outputs": [
    {
     "data": {
      "text/plain": [
       "(-1.0, 10.0)"
      ]
     },
     "execution_count": 29,
     "metadata": {},
     "output_type": "execute_result"
    },
    {
     "data": {
      "image/png": "[encoded data removed]",
      "text/plain": [
       "<Figure size 432x288 with 1 Axes>"
      ]
     },
     "metadata": {
      "needs_background": "light"
     },
     "output_type": "display_data"
    }
   ],
   "source": [
    "plt.boxplot([user_rebuy.loc[user_rebuy['gender']==0.,'rebuy_mer_cnt'].tolist(),\n",
    "             user_rebuy.loc[user_rebuy['gender']==1.,'rebuy_mer_cnt'].tolist(),\n",
    "             user_rebuy.loc[user_rebuy['gender']==2.,'rebuy_mer_cnt'].tolist()],\n",
    "            labels=['女性','男性','未知'],\n",
    "            flierprops={'markerfacecolor':'#CD5C5C'},\n",
    "            whiskerprops={'color':'#800000'},\n",
    "            patch_artist=True,\n",
    "            boxprops={'facecolor':'#DEB887'},\n",
    "            medianprops={'color':'#800000'})\n",
    "plt.ylim(-1,10)"
   ]
  },
  {
   "cell_type": "code",
   "execution_count": 30,
   "id": "c95728d4",
   "metadata": {},
   "outputs": [
    {
     "data": {
      "text/plain": [
       "<BarContainer object of 3 artists>"
      ]
     },
     "execution_count": 30,
     "metadata": {},
     "output_type": "execute_result"
    },
    {
     "data": {
      "image/png": "[encoded data removed]",
      "text/plain": [
       "<Figure size 432x288 with 1 Axes>"
      ]
     },
     "metadata": {
      "needs_background": "light"
     },
     "output_type": "display_data"
    }
   ],
   "source": [
    "# 男性复购平均连一家都没到\n",
    "plt.bar(x=['女性','男性','未知'],height=[user_rebuy.loc[user_rebuy['gender']==0.,'rebuy_mer_cnt'].mean(),user_rebuy.loc[user_rebuy['gender']==1.,'rebuy_mer_cnt'].mean(),user_rebuy.loc[user_rebuy['gender']==2.,'rebuy_mer_cnt'].mean()])"
   ]
  },
  {
   "cell_type": "code",
   "execution_count": 31,
   "id": "8d95d1bf",
   "metadata": {
    "scrolled": false
   },
   "outputs": [
    {
     "data": {
      "text/plain": [
       "([0, 1, 2, 3, 4, 5, 6, 7, 8],\n",
       " [Text(0, 0, ''),\n",
       "  Text(0, 0, ''),\n",
       "  Text(0, 0, ''),\n",
       "  Text(0, 0, ''),\n",
       "  Text(0, 0, ''),\n",
       "  Text(0, 0, ''),\n",
       "  Text(0, 0, ''),\n",
       "  Text(0, 0, ''),\n",
       "  Text(0, 0, '')])"
      ]
     },
     "execution_count": 31,
     "metadata": {},
     "output_type": "execute_result"
    },
    {
     "data": {
      "image/png": "[encoded data removed]",
      "text/plain": [
       "<Figure size 432x288 with 1 Axes>"
      ]
     },
     "metadata": {
      "needs_background": "light"
     },
     "output_type": "display_data"
    }
   ],
   "source": [
    "plt.bar(x=user_rebuy.type.drop_duplicates(),height=[user_rebuy.loc[user_rebuy['type']==i,'rebuy_mer_cnt'].mean() for i in user_rebuy.type.drop_duplicates()])\n",
    "plt.xticks(rotation=45)"
   ]
  },
  {
   "cell_type": "code",
   "execution_count": 37,
   "id": "4e79fcfa",
   "metadata": {},
   "outputs": [],
   "source": [
    "# 复购店铺数与购买商品种类数\n",
    "user_rebuy = user_rebuy.merge(buy[['user_id','cat_id']].drop_duplicates().groupby('user_id')['cat_id'].agg('count').rename('cat_buy_cnt'), how='left',on='user_id')"
   ]
  },
  {
   "cell_type": "code",
   "execution_count": 39,
   "id": "7948a0b2",
   "metadata": {
    "scrolled": false
   },
   "outputs": [
    {
     "data": {
      "text/plain": [
       "<matplotlib.collections.PathCollection at 0x272b50d9760>"
      ]
     },
     "execution_count": 39,
     "metadata": {},
     "output_type": "execute_result"
    },
    {
     "data": {
      "image/png": "[encoded data removed]",
      "text/plain": [
       "<Figure size 432x288 with 1 Axes>"
      ]
     },
     "metadata": {
      "needs_background": "light"
     },
     "output_type": "display_data"
    }
   ],
   "source": [
    "plt.scatter(user_rebuy.cat_buy_cnt.tolist(), user_rebuy.rebuy_mer_cnt.tolist())"
   ]
  },
  {
   "cell_type": "code",
   "execution_count": 58,
   "id": "dc3c4dca",
   "metadata": {},
   "outputs": [],
   "source": [
    "# 复购店铺数与浏览商品种类数\n",
    "user_rebuy = user_rebuy.merge(user_log.loc[user_log['action_type']==0,['user_id','cat_id']].drop_duplicates().groupby('user_id')['cat_id'].agg('count').rename('cat_view_cnt'), how='left',on='user_id')"
   ]
  },
  {
   "cell_type": "code",
   "execution_count": 59,
   "id": "f708d81d",
   "metadata": {
    "scrolled": true
   },
   "outputs": [
    {
     "data": {
      "text/plain": [
       "<matplotlib.collections.PathCollection at 0x272e9b32f10>"
      ]
     },
     "execution_count": 59,
     "metadata": {},
     "output_type": "execute_result"
    },
    {
     "data": {
      "image/png": "[encoded data removed]",
      "text/plain": [
       "<Figure size 432x288 with 1 Axes>"
      ]
     },
     "metadata": {
      "needs_background": "light"
     },
     "output_type": "display_data"
    }
   ],
   "source": [
    "plt.scatter(user_rebuy.cat_view_cnt.tolist(), user_rebuy.rebuy_mer_cnt.tolist())"
   ]
  },
  {
   "cell_type": "code",
   "execution_count": 62,
   "id": "e994ef94",
   "metadata": {},
   "outputs": [],
   "source": [
    "# 复购店铺数与加购物车数\n",
    "user_rebuy = user_rebuy.merge(user_log.loc[user_log['action_type']==1,['user_id','action_type']].groupby('user_id')['action_type'].agg('count').rename('total_car'), how='left',on='user_id')"
   ]
  },
  {
   "cell_type": "code",
   "execution_count": 64,
   "id": "0633df50",
   "metadata": {
    "scrolled": true
   },
   "outputs": [
    {
     "data": {
      "text/plain": [
       "<matplotlib.collections.PathCollection at 0x272c5cbcb20>"
      ]
     },
     "execution_count": 64,
     "metadata": {},
     "output_type": "execute_result"
    },
    {
     "data": {
      "image/png": "[encoded data removed]",
      "text/plain": [
       "<Figure size 432x288 with 1 Axes>"
      ]
     },
     "metadata": {
      "needs_background": "light"
     },
     "output_type": "display_data"
    }
   ],
   "source": [
    "plt.scatter(user_rebuy.total_car.tolist(), user_rebuy.rebuy_mer_cnt.tolist())"
   ]
  },
  {
   "cell_type": "code",
   "execution_count": 41,
   "id": "1a2bf533",
   "metadata": {},
   "outputs": [
    {
     "name": "stdout",
     "output_type": "stream",
     "text": [
      "0\n"
     ]
    },
    {
     "data": {
      "text/plain": [
       "Text(0.5, 1.0, '年龄购买数')"
      ]
     },
     "execution_count": 41,
     "metadata": {},
     "output_type": "execute_result"
    },
    {
     "data": {
      "image/png": "[encoded data removed]",
      "text/plain": [
       "<Figure size 432x288 with 1 Axes>"
      ]
     },
     "metadata": {
      "needs_background": "light"
     },
     "output_type": "display_data"
    }
   ],
   "source": [
    "# 年龄购买数\n",
    "print(user_rebuy.age_range.isna().sum())\n",
    "plt.bar(x = user_rebuy.age_range.unique(), height=[user_rebuy.loc[user_rebuy['age_range']==i,'total_buy'].mean() for i in user_rebuy.age_range.unique()])\n",
    "plt.title('年龄购买数')"
   ]
  },
  {
   "cell_type": "code",
   "execution_count": 42,
   "id": "0a1450e4",
   "metadata": {
    "scrolled": true
   },
   "outputs": [
    {
     "name": "stdout",
     "output_type": "stream",
     "text": [
      "0\n"
     ]
    },
    {
     "data": {
      "text/plain": [
       "Text(0.5, 1.0, '年龄双11购买数')"
      ]
     },
     "execution_count": 42,
     "metadata": {},
     "output_type": "execute_result"
    },
    {
     "data": {
      "image/png": "[encoded data removed]",
      "text/plain": [
       "<Figure size 432x288 with 1 Axes>"
      ]
     },
     "metadata": {
      "needs_background": "light"
     },
     "output_type": "display_data"
    }
   ],
   "source": [
    "# 年龄双11购买数\n",
    "print(user_rebuy.age_range.isna().sum())\n",
    "plt.bar(x = user_rebuy.age_range.unique(), height=[user_rebuy.loc[user_rebuy['age_range']==i,'1111buy'].mean() for i in user_rebuy.age_range.unique()])\n",
    "plt.title('年龄双11购买数')"
   ]
  },
  {
   "cell_type": "code",
   "execution_count": 55,
   "id": "800ab79c",
   "metadata": {},
   "outputs": [
    {
     "data": {
      "text/plain": [
       "1.346624787946991"
      ]
     },
     "execution_count": 55,
     "metadata": {},
     "output_type": "execute_result"
    }
   ],
   "source": [
    "user_rebuy[user_rebuy['type']=='新用户'].total_buy.mean()"
   ]
  },
  {
   "cell_type": "markdown",
   "id": "59a78f6d",
   "metadata": {},
   "source": [
    "不同用户群体双11购买数"
   ]
  },
  {
   "cell_type": "code",
   "execution_count": 32,
   "id": "6e772692",
   "metadata": {},
   "outputs": [],
   "source": [
    "user_rebuy = user_rebuy.merge(buy[buy['time_stamp']==1111].groupby('user_id')['user_id'].aggregate('count').rename('1111buy'), how='left', on='user_id')"
   ]
  },
  {
   "cell_type": "code",
   "execution_count": 33,
   "id": "d8215e59",
   "metadata": {},
   "outputs": [
    {
     "data": {
      "text/plain": [
       "([0, 1, 2, 3, 4, 5, 6, 7, 8],\n",
       " [Text(0, 0, ''),\n",
       "  Text(0, 0, ''),\n",
       "  Text(0, 0, ''),\n",
       "  Text(0, 0, ''),\n",
       "  Text(0, 0, ''),\n",
       "  Text(0, 0, ''),\n",
       "  Text(0, 0, ''),\n",
       "  Text(0, 0, ''),\n",
       "  Text(0, 0, '')])"
      ]
     },
     "execution_count": 33,
     "metadata": {},
     "output_type": "execute_result"
    },
    {
     "data": {
      "image/png": "[encoded data removed]",
      "text/plain": [
       "<Figure size 432x288 with 1 Axes>"
      ]
     },
     "metadata": {
      "needs_background": "light"
     },
     "output_type": "display_data"
    }
   ],
   "source": [
    "plt.bar(x=user_rebuy.type.drop_duplicates(),height=[user_rebuy.loc[user_rebuy['type']==i,'1111buy'].mean() for i in user_rebuy.type.drop_duplicates()])\n",
    "plt.xticks(rotation=45)"
   ]
  },
  {
   "cell_type": "markdown",
   "id": "bb51748f",
   "metadata": {},
   "source": [
    "不同用户群体总购买数"
   ]
  },
  {
   "cell_type": "code",
   "execution_count": 110,
   "id": "b525b8da",
   "metadata": {},
   "outputs": [
    {
     "data": {
      "text/plain": [
       "([0, 1, 2, 3, 4, 5, 6, 7, 8],\n",
       " [Text(0, 0, ''),\n",
       "  Text(0, 0, ''),\n",
       "  Text(0, 0, ''),\n",
       "  Text(0, 0, ''),\n",
       "  Text(0, 0, ''),\n",
       "  Text(0, 0, ''),\n",
       "  Text(0, 0, ''),\n",
       "  Text(0, 0, ''),\n",
       "  Text(0, 0, '')])"
      ]
     },
     "execution_count": 110,
     "metadata": {},
     "output_type": "execute_result"
    },
    {
     "data": {
      "image/png": "[encoded data removed]",
      "text/plain": [
       "<Figure size 432x288 with 1 Axes>"
      ]
     },
     "metadata": {
      "needs_background": "light"
     },
     "output_type": "display_data"
    }
   ],
   "source": [
    "plt.bar(x=user_rebuy.type.drop_duplicates(),height=[user_rebuy.loc[user_rebuy['type']==i,'total_buy'].mean() for i in user_rebuy.type.drop_duplicates()])\n",
    "plt.xticks(rotation=45)"
   ]
  },
  {
   "cell_type": "markdown",
   "id": "a39e2348",
   "metadata": {},
   "source": [
    "# 总结"
   ]
  },
  {
   "cell_type": "markdown",
   "id": "913d8fd2",
   "metadata": {},
   "source": [
    "女性多、25-29多，30-34其次，25-39都是购买力较高人群"
   ]
  },
  {
   "cell_type": "markdown",
   "id": "998db557",
   "metadata": {},
   "source": [
    "RFM模型如何分群，R值F值M值如何确定"
   ]
  },
  {
   "cell_type": "markdown",
   "id": "38253f63",
   "metadata": {},
   "source": [
    "RFM各群的年龄构成，性别构成，可以看出女性、年龄在30-34的是最核心用户"
   ]
  },
  {
   "cell_type": "markdown",
   "id": "1f629dea",
   "metadata": {},
   "source": [
    "各群用户的双十一购买量可以看出，这样的大型打折活动对挽留客户较为有效。此外保持用户双十一购买是最多的"
   ]
  },
  {
   "cell_type": "markdown",
   "id": "f04d1529",
   "metadata": {},
   "source": [
    "大部分特征都与复购率复购商店数呈正相关，但是有一个购物车数是负相关。这很有意思的说明了爱加购物车但最终没有购买的用户他们可能是偏向精打细算、货比三家的，大概率不会一直在某个店铺中购买，也即复购表现会比较低。想要吸引或挽留这批用户，用一些小优惠可能很有效。"
   ]
  },
  {
   "cell_type": "markdown",
   "id": "6abe1391",
   "metadata": {},
   "source": [
    "（属于暂无经验的单纯的自身见解，不一定对）"
   ]
  },
  {
   "cell_type": "code",
   "execution_count": null,
   "id": "85fe9e5b",
   "metadata": {},
   "outputs": [],
   "source": []
  }
 ],
 "metadata": {
  "kernelspec": {
   "display_name": "Python 3 (ipykernel)",
   "language": "python",
   "name": "python3"
  },
  "language_info": {
   "codemirror_mode": {
    "name": "ipython",
    "version": 3
   },
   "file_extension": ".py",
   "mimetype": "text/x-python",
   "name": "python",
   "nbconvert_exporter": "python",
   "pygments_lexer": "ipython3",
   "version": "3.9.1"
  }
 },
 "nbformat": 4,
 "nbformat_minor": 5
}
